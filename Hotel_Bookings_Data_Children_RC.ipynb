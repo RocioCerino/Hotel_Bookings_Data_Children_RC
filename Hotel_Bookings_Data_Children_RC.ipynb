{
 "cells": [
  {
   "attachments": {
    "new-logo-32.png": {
     "image/png": "[encoded data removed]"
    }
   },
   "cell_type": "markdown",
   "metadata": {},
   "source": [
    "![new-logo-32.png](attachment:new-logo-32.png)"
   ]
  },
  {
   "cell_type": "markdown",
   "metadata": {},
   "source": [
    "<hr>\n",
    "<p style=\"font-size:40px;text-align:center\">Take Home - Data Science</p>\n",
    "<hr>"
   ]
  },
  {
   "cell_type": "markdown",
   "metadata": {},
   "source": [
    "# The Hotel Bookings Data\n",
    "Let’s use hotel bookings data from [Antonio, Almeida, and Nunes (2019)](https://www.sciencedirect.com/science/article/pii/S2352340918315191?via%3Dihub) to predict which hotel stays included children and/or babies, based on the other characteristics of the stays such as which hotel the guests stay at, how much they pay, etc.\n",
    "\n",
    "<img src=\"https://s3-us-west-2.amazonaws.com/fligoo.data-science/TechInterviews/HotelBookings/header.png\"/>\n",
    "\n",
    "One of the hotels (H1) is a resort hotel and the other is a city hotel (H2). Both datasets share the same structure, with 23 variables describing the 19248 observations of H1 and 30752 observations of H2. Each observation represents a hotel booking. Both datasets comprehend bookings due to arrive between the 1st of July of 2015 and the 31st of August 2017, including bookings that effectively arrived and bookings that were canceled. Since this is hotel real data, all data elements pertaining hotel or custumer identification were deleted.\n",
    "\n",
    "**Take-Home Goals**\n",
    "- During **Part I**, you should perform an Exploratory Data Analysis highlighting key findings:\n",
    "  - Data Quality Check: You must check the quality of the given dataset to make an assessment of how appropriate it is for later Data Science tasks. Propose a set of corrective actions over the data if any.\n",
    "  - Report insights and conclusions: Describe the results obtained during the exploratory analysis and provide conclusions from a business perspective, supported by plots / tables / metrics.\n",
    "- In **Part II** you should define and train a model to predict which actual hotel stays included children/babies, and which did not:\n",
    "  - Feature extraction: Indicate some possible candidates of features that could properly describe the hotels, either from the given columns or from their transformations.\n",
    "  - Machine Learning modeling: at least one fitted model with the given data. You could use the `children` column as target.\n",
    "- Finally, on **Part III** you should present the key findings, conclusions and results to non-technical stakeholders.\n",
    "  \n",
    "**Requirements**\n",
    "- Python 3.x & Pandas 1.x\n",
    "- Paying attention to the details and narrative is far way more important than extensive development.\n",
    "- Once you complete the assessment, please send a ZIP file of the folder with all the resources used in this work (e.g. Jupyter notebook, Python scripts, text files, images, etc) or share the repository link.\n",
    "- Have a final meeting with the team to discuss the work done in this notebook and answer the questions that could arise.\n",
    "- Finally, but most important: Have fun!\n",
    "\n",
    "**Nice to have aspects**\n",
    "- Dockerfile to setup environment / Conda environment for isolation.\n",
    "- Code versioning with Git (you are free to publish it on your own Github/Bitbucket account!).\n",
    "- Show proficiency in Python: By showing good practices in the structure and documentation, usage of several programming paradigms (e.g. imperative, OOP, functional), etc.\n"
   ]
  },
  {
   "cell_type": "markdown",
   "metadata": {},
   "source": [
    "## Part I - Exploratory Data Analisys"
   ]
  },
  {
   "cell_type": "code",
   "execution_count": 1,
   "metadata": {},
   "outputs": [],
   "source": [
    "# Importar librerías  \n",
    "import pandas as pd\n",
    "import numpy as np\n",
    "import pandas_profiling\n",
    "import matplotlib.pyplot as plt\n",
    "import seaborn as sns\n",
    "import sklearn "
   ]
  },
  {
   "cell_type": "code",
   "execution_count": 2,
   "metadata": {},
   "outputs": [],
   "source": [
    "# Leer la base de datos\n",
    "hotels = pd.read_csv('https://s3-us-west-2.amazonaws.com/fligoo.data-science/TechInterviews/HotelBookings/hotels.csv')\n",
    "# Genero una variable dicotomica para children\n",
    "hotels['dummy_children'] = np.where(hotels[\"children\"]==\"none\",0,1)"
   ]
  },
  {
   "cell_type": "code",
   "execution_count": 3,
   "metadata": {},
   "outputs": [
    {
     "data": {
      "text/plain": [
       "Index(['hotel', 'lead_time', 'stays_in_weekend_nights', 'stays_in_week_nights',\n",
       "       'adults', 'children', 'meal', 'country', 'market_segment',\n",
       "       'distribution_channel', 'is_repeated_guest', 'previous_cancellations',\n",
       "       'previous_bookings_not_canceled', 'reserved_room_type',\n",
       "       'assigned_room_type', 'booking_changes', 'deposit_type',\n",
       "       'days_in_waiting_list', 'customer_type', 'average_daily_rate',\n",
       "       'required_car_parking_spaces', 'total_of_special_requests',\n",
       "       'arrival_date', 'dummy_children'],\n",
       "      dtype='object')"
      ]
     },
     "execution_count": 3,
     "metadata": {},
     "output_type": "execute_result"
    }
   ],
   "source": [
    "# Analizar sus variables\n",
    "hotels.columns"
   ]
  },
  {
   "cell_type": "code",
   "execution_count": 4,
   "metadata": {},
   "outputs": [],
   "source": [
    "import warnings\n",
    "warnings.filterwarnings('ignore')"
   ]
  },
  {
   "cell_type": "markdown",
   "metadata": {},
   "source": [
    "#### Overview"
   ]
  },
  {
   "cell_type": "code",
   "execution_count": 5,
   "metadata": {},
   "outputs": [
    {
     "data": {
      "application/vnd.jupyter.widget-view+json": {
       "model_id": "5209b940a4854c59b10fa1e6708b695f",
       "version_major": 2,
       "version_minor": 0
      },
      "text/plain": [
       "Summarize dataset:   0%|          | 0/38 [00:00<?, ?it/s]"
      ]
     },
     "metadata": {},
     "output_type": "display_data"
    },
    {
     "data": {
      "application/vnd.jupyter.widget-view+json": {
       "model_id": "c15d4cb1bf1046c093060e0f6913056e",
       "version_major": 2,
       "version_minor": 0
      },
      "text/plain": [
       "Generate report structure:   0%|          | 0/1 [00:00<?, ?it/s]"
      ]
     },
     "metadata": {},
     "output_type": "display_data"
    },
    {
     "data": {
      "application/vnd.jupyter.widget-view+json": {
       "model_id": "0dada7edab934259ac84e01422df5b7e",
       "version_major": 2,
       "version_minor": 0
      },
      "text/plain": [
       "Render HTML:   0%|          | 0/1 [00:00<?, ?it/s]"
      ]
     },
     "metadata": {},
     "output_type": "display_data"
    },
    {
     "data": {
      "application/vnd.jupyter.widget-view+json": {
       "model_id": "e1d429a482e942738122439d493c8322",
       "version_major": 2,
       "version_minor": 0
      },
      "text/plain": [
       "Export report to file:   0%|          | 0/1 [00:00<?, ?it/s]"
      ]
     },
     "metadata": {},
     "output_type": "display_data"
    }
   ],
   "source": [
    "# Para una visión general de los datos decidí utilizar el reporte que genera pandas_profiling.\n",
    "profile = pandas_profiling.ProfileReport(hotels)\n",
    "\n",
    "profile.to_file(\"first_look.html\")\n",
    "\n"
   ]
  },
  {
   "cell_type": "code",
   "execution_count": 6,
   "metadata": {},
   "outputs": [
    {
     "data": {
      "text/plain": [
       "(50000, 24)"
      ]
     },
     "execution_count": 6,
     "metadata": {},
     "output_type": "execute_result"
    }
   ],
   "source": [
    "# Lo primero que el html nos informa es un overview de los datos: \n",
    "# cantidad de variables, de observaciones:\n",
    "\n",
    "hotels.shape\n",
    "\n",
    "# Muestra las variables originales más la dummy creada para identificar children\n",
    "\n"
   ]
  },
  {
   "cell_type": "markdown",
   "metadata": {},
   "source": [
    "#### Eliminar filas duplicadas"
   ]
  },
  {
   "cell_type": "markdown",
   "metadata": {},
   "source": [
    "Las observaciones duplicadas serán eliminadas"
   ]
  },
  {
   "cell_type": "code",
   "execution_count": 7,
   "metadata": {},
   "outputs": [
    {
     "name": "stdout",
     "output_type": "stream",
     "text": [
      "Al eliminar filas duplicadas, la base de datos ahora cuenta con  43385  observaciones\n"
     ]
    }
   ],
   "source": [
    "# El informe muestra duplicados (%).\n",
    "# En la sección de \"Warnings\" lo primero que se informa es \"Dataset has 6615 (13.2%) duplicate rows\"\n",
    "# Procederpe a eliminar filas duplicadas\n",
    "\n",
    "hotels[\"duplicate\"] = hotels.duplicated(keep = \"first\")\n",
    "hotels = hotels[hotels[\"duplicate\"]== False].reset_index(drop=True).drop(columns=\"duplicate\")\n",
    "print(\"Al eliminar filas duplicadas, la base de datos ahora cuenta con \", hotels.shape[0], \" observaciones\")"
   ]
  },
  {
   "cell_type": "markdown",
   "metadata": {},
   "source": [
    "#### Valores ausentes (missing, NA) y alta proporción de ceros"
   ]
  },
  {
   "cell_type": "markdown",
   "metadata": {},
   "source": [
    "No hay muchos valores ausentes en la base de datos, luego de eliminar por duplicados solo quedan missings en la variable \"country\". Decidí no utilizar esta variable como independiente en el modelo, por lo que no eliminé las filas asociadas a missing en la variable country.\n",
    "\n",
    "Adicionalmente, el html generado informa que la variable \"country\" tiene una alta cardinalidad, al igual que \"arrival_date\". Ambas advertencias parecen ser razonables por los conceptos de las variables. Más adelante se tratará la variable \"arrival_date\".."
   ]
  },
  {
   "cell_type": "code",
   "execution_count": 8,
   "metadata": {
    "scrolled": true
   },
   "outputs": [
    {
     "data": {
      "text/plain": [
       "hotel                               0\n",
       "lead_time                           0\n",
       "stays_in_weekend_nights             0\n",
       "stays_in_week_nights                0\n",
       "adults                              0\n",
       "children                            0\n",
       "meal                                0\n",
       "country                           287\n",
       "market_segment                      0\n",
       "distribution_channel                0\n",
       "is_repeated_guest                   0\n",
       "previous_cancellations              0\n",
       "previous_bookings_not_canceled      0\n",
       "reserved_room_type                  0\n",
       "assigned_room_type                  0\n",
       "booking_changes                     0\n",
       "deposit_type                        0\n",
       "days_in_waiting_list                0\n",
       "customer_type                       0\n",
       "average_daily_rate                  0\n",
       "required_car_parking_spaces         0\n",
       "total_of_special_requests           0\n",
       "arrival_date                        0\n",
       "dummy_children                      0\n",
       "dtype: int64"
      ]
     },
     "execution_count": 8,
     "metadata": {},
     "output_type": "execute_result"
    }
   ],
   "source": [
    "# Siguiendo con la información que nos brinda el html \"first_look\" \n",
    "# Missing cells exists\n",
    "\n",
    "hotels.isnull().sum()\n",
    "\n",
    "# Luego de depurar por duplicados, quedaron 287 observaciones con valores ausentes en la variable \"country\"\n",
    "# Si la variable resultara de interés para predecir la variable objetivo, se depuraría de la siguiente manera:\n",
    "\n",
    "# hotels = hotels[hotels[\"country\"].isnull() == False].reset_index(drop=True)\n",
    "# print(\"Al eliminar filas con NA, la base de datos ahora cuenta con \", hotels.shape[0], \" observaciones\")"
   ]
  },
  {
   "cell_type": "markdown",
   "metadata": {},
   "source": [
    "Siguiendo con la información que nos brinda el html \"first_look\" - \"Warnings\", se observa que \"previous_cancellations\" se encuentra muy sesgada. Esta variable informa la cantidad de reservas (bookings) previas que han sido canceladas por el cliente antes de la reserva actual. No resulta llamativo que esta variable esté sesgada por su definición. \n",
    "\n",
    "Las siguientes variables tienen también una proporción llamativa de ceros, pero no son llamativos por su definición:\n",
    "* stays_in_weekend_nights: 43.3% ceros\n",
    "* stays_in_week_nights: 7.6%\n",
    "* previous_bookings_not_canceled: 95.5%\n",
    "* booking_changes: 79.6%\n",
    "* days_in_waiting_list: 98.2%\n",
    "* total_of_special_requests: 49.0%\n",
    "* lead_time: 7.8%"
   ]
  },
  {
   "cell_type": "markdown",
   "metadata": {},
   "source": [
    "Una variable que no tiene una alta proporción de ceros pero que si llama la atención es la definida como la cantidad de adultos en la reserva (\"adults\"). Se ven dos opciones:\n",
    "\n",
    "1) Siempre es necesario que un adulto acompañe a los niños en una reserva de hotel\n",
    "\n",
    "2) Los padres pueden estar en el hotel y haber reservado una habitación para sus niños solos\n",
    "\n",
    "Como desconozco cómo funciona, he decidido optar por la segunda opción, por lo que eliminaré los datos donde no hay adultos en la reserva y no hay niños tampoco."
   ]
  },
  {
   "cell_type": "code",
   "execution_count": 9,
   "metadata": {},
   "outputs": [
    {
     "name": "stdout",
     "output_type": "stream",
     "text": [
      "Al eliminar observaciones con cero adultos, la base de datos ahora cuenta con  43283  observaciones\n"
     ]
    }
   ],
   "source": [
    "# adultos = 0\n",
    "\n",
    "# ver = hotels[(hotels[\"adults\"] == 0) & (hotels[\"children\"] == \"none\") ]\n",
    "# ver[[\"adults\", \"dummy_children\"]].describe()\n",
    "\n",
    "hotels = hotels[(hotels[\"adults\"] != 0) | (hotels[\"children\"] != \"none\") ]\n",
    "# hotels = hotels[(hotels[\"adults\"] != 0) ]\n",
    "\n",
    "print(\"Al eliminar observaciones con cero adultos, la base de datos ahora cuenta con \", hotels.shape[0], \" observaciones\")"
   ]
  },
  {
   "cell_type": "markdown",
   "metadata": {},
   "source": [
    "#### Average Daly Rate"
   ]
  },
  {
   "cell_type": "markdown",
   "metadata": {},
   "source": [
    "average_daily_rate: Se calcula como la suma de todas las transacciones por la reserva dividida la cantidad de noches de estadía. Básicamente, se entiende como un precio."
   ]
  },
  {
   "cell_type": "code",
   "execution_count": 10,
   "metadata": {},
   "outputs": [
    {
     "data": {
      "text/html": [
       "<div>\n",
       "<style scoped>\n",
       "    .dataframe tbody tr th:only-of-type {\n",
       "        vertical-align: middle;\n",
       "    }\n",
       "\n",
       "    .dataframe tbody tr th {\n",
       "        vertical-align: top;\n",
       "    }\n",
       "\n",
       "    .dataframe thead th {\n",
       "        text-align: right;\n",
       "    }\n",
       "</style>\n",
       "<table border=\"1\" class=\"dataframe\">\n",
       "  <thead>\n",
       "    <tr style=\"text-align: right;\">\n",
       "      <th></th>\n",
       "      <th>average_daily_rate</th>\n",
       "    </tr>\n",
       "  </thead>\n",
       "  <tbody>\n",
       "    <tr>\n",
       "      <th>count</th>\n",
       "      <td>43283.000000</td>\n",
       "    </tr>\n",
       "    <tr>\n",
       "      <th>mean</th>\n",
       "      <td>101.802683</td>\n",
       "    </tr>\n",
       "    <tr>\n",
       "      <th>std</th>\n",
       "      <td>50.796742</td>\n",
       "    </tr>\n",
       "    <tr>\n",
       "      <th>min</th>\n",
       "      <td>-6.380000</td>\n",
       "    </tr>\n",
       "    <tr>\n",
       "      <th>25%</th>\n",
       "      <td>68.000000</td>\n",
       "    </tr>\n",
       "    <tr>\n",
       "      <th>50%</th>\n",
       "      <td>94.500000</td>\n",
       "    </tr>\n",
       "    <tr>\n",
       "      <th>75%</th>\n",
       "      <td>129.000000</td>\n",
       "    </tr>\n",
       "    <tr>\n",
       "      <th>max</th>\n",
       "      <td>510.000000</td>\n",
       "    </tr>\n",
       "  </tbody>\n",
       "</table>\n",
       "</div>"
      ],
      "text/plain": [
       "       average_daily_rate\n",
       "count        43283.000000\n",
       "mean           101.802683\n",
       "std             50.796742\n",
       "min             -6.380000\n",
       "25%             68.000000\n",
       "50%             94.500000\n",
       "75%            129.000000\n",
       "max            510.000000"
      ]
     },
     "execution_count": 10,
     "metadata": {},
     "output_type": "execute_result"
    }
   ],
   "source": [
    "adr = hotels.copy()[[\"average_daily_rate\", \"children\"]]\n",
    "adr.describe()"
   ]
  },
  {
   "cell_type": "markdown",
   "metadata": {},
   "source": [
    "average_daily_rate posee valores negativos, al ser un precio (y no tener más información) no aceptaremos valores negativos y por lo tanto los eliminaré.\n",
    "\n",
    "Adicionalmente, se presenta que hay valores donde el adr es igual a cero. Mi primera intuición fue relacionar el adr = 0 con las cancelaciones (is_cancel), pero al no tener dicha variable en la base propuesta, asumo que no corresponde y los eliminaré de la base."
   ]
  },
  {
   "cell_type": "code",
   "execution_count": 11,
   "metadata": {},
   "outputs": [
    {
     "data": {
      "text/plain": [
       "count    42278.000000\n",
       "mean       104.222809\n",
       "std         48.881417\n",
       "min          1.000000\n",
       "25%         70.000000\n",
       "50%         95.000000\n",
       "75%        130.000000\n",
       "max        510.000000\n",
       "Name: average_daily_rate, dtype: float64"
      ]
     },
     "execution_count": 11,
     "metadata": {},
     "output_type": "execute_result"
    }
   ],
   "source": [
    "# Se eliminan valores negativos y cero\n",
    "hotels = hotels[hotels[\"average_daily_rate\"]>0]\n",
    "hotels[\"average_daily_rate\"].describe()\n",
    "\n",
    "# ver = hotels[hotels[\"average_daily_rate\"]<5]\n",
    "# ver.shape"
   ]
  },
  {
   "cell_type": "markdown",
   "metadata": {},
   "source": [
    "Si bien quedan observaciones con adr muy bajo, como por ejemplo adr=1 (el mínimo), al desconocer las políticas de precio de los hoteles no hice ninguna consideración adicional. Bajo un esquema de trabajo con cliente, me gustaría conocer más acerca de cómo son las operativas y analizar si se trata de errores, outliers por alguna razón, etc."
   ]
  },
  {
   "cell_type": "code",
   "execution_count": 12,
   "metadata": {},
   "outputs": [
    {
     "name": "stdout",
     "output_type": "stream",
     "text": [
      "Al depurar la variable adr, la base de datos queda con  42278  observaciones\n"
     ]
    }
   ],
   "source": [
    "print(\"Al depurar la variable adr, la base de datos queda con \", hotels.shape[0], \" observaciones\")"
   ]
  },
  {
   "cell_type": "markdown",
   "metadata": {},
   "source": [
    "Considerando que se tiene la información de cuántos adultos se alojaron en la habitación, se puede construir una variable que indique el costo por día por adulto. Considerando que no se tiene el número de niños y que existen habitaciones con cero adultos pero que tienen niños, para el calculo de la variable se tomaron las habitaciones con adulto = 0 como si se alojara sólo un adulto."
   ]
  },
  {
   "cell_type": "code",
   "execution_count": 13,
   "metadata": {},
   "outputs": [
    {
     "data": {
      "text/plain": [
       "count    42278.000000\n",
       "mean        58.937981\n",
       "std         29.442706\n",
       "min          0.500000\n",
       "25%         39.000000\n",
       "50%         52.635000\n",
       "75%         72.000000\n",
       "max        510.000000\n",
       "Name: adr_per_adult, dtype: float64"
      ]
     },
     "execution_count": 13,
     "metadata": {},
     "output_type": "execute_result"
    }
   ],
   "source": [
    "hotels[\"adr_per_adult\"] = hotels[\"average_daily_rate\"]/np.where(hotels[\"adults\"]==0, 1 ,hotels[\"adults\"])\n",
    "hotels[\"adr_per_adult\"].describe()\n",
    "\n",
    "# print(np.corrcoef(hotels[\"adr_per_adult\"],hotels[\"average_daily_rate\"]) )\n"
   ]
  },
  {
   "cell_type": "markdown",
   "metadata": {},
   "source": [
    "#### Variable target"
   ]
  },
  {
   "cell_type": "markdown",
   "metadata": {},
   "source": [
    "La variable target se encuentra claramente desbalanceada en la muestra, esto influirá en el segundo apartado del desafio."
   ]
  },
  {
   "cell_type": "code",
   "execution_count": 14,
   "metadata": {
    "scrolled": true
   },
   "outputs": [
    {
     "data": {
      "text/html": [
       "<div>\n",
       "<style scoped>\n",
       "    .dataframe tbody tr th:only-of-type {\n",
       "        vertical-align: middle;\n",
       "    }\n",
       "\n",
       "    .dataframe tbody tr th {\n",
       "        vertical-align: top;\n",
       "    }\n",
       "\n",
       "    .dataframe thead th {\n",
       "        text-align: right;\n",
       "    }\n",
       "</style>\n",
       "<table border=\"1\" class=\"dataframe\">\n",
       "  <thead>\n",
       "    <tr style=\"text-align: right;\">\n",
       "      <th></th>\n",
       "      <th>children</th>\n",
       "      <th>0</th>\n",
       "    </tr>\n",
       "  </thead>\n",
       "  <tbody>\n",
       "    <tr>\n",
       "      <th>0</th>\n",
       "      <td>none</td>\n",
       "      <td>38345</td>\n",
       "    </tr>\n",
       "    <tr>\n",
       "      <th>1</th>\n",
       "      <td>children</td>\n",
       "      <td>3933</td>\n",
       "    </tr>\n",
       "  </tbody>\n",
       "</table>\n",
       "</div>"
      ],
      "text/plain": [
       "   children      0\n",
       "0      none  38345\n",
       "1  children   3933"
      ]
     },
     "execution_count": 14,
     "metadata": {},
     "output_type": "execute_result"
    }
   ],
   "source": [
    "tabla = hotels[[\"children\"]].value_counts().reset_index()\n",
    "tabla"
   ]
  },
  {
   "cell_type": "code",
   "execution_count": 15,
   "metadata": {},
   "outputs": [
    {
     "data": {
      "image/png": "[encoded data removed]",
      "text/plain": [
       "<Figure size 432x360 with 1 Axes>"
      ]
     },
     "metadata": {
      "needs_background": "light"
     },
     "output_type": "display_data"
    }
   ],
   "source": [
    "plt.figure(figsize=(6,5))\n",
    "sns.set(style = \"darkgrid\")\n",
    "plt.title(\"Is the booking with child or not\", fontdict = {'fontsize': 23})\n",
    "axis = sns.countplot(x = \"children\",  data = hotels)"
   ]
  },
  {
   "cell_type": "markdown",
   "metadata": {},
   "source": [
    "#### Fecha de arribo "
   ]
  },
  {
   "cell_type": "code",
   "execution_count": 16,
   "metadata": {},
   "outputs": [
    {
     "data": {
      "image/png": "[encoded data removed]",
      "text/plain": [
       "<Figure size 842.4x595.44 with 1 Axes>"
      ]
     },
     "metadata": {},
     "output_type": "display_data"
    }
   ],
   "source": [
    "df = hotels.copy()\n",
    "df['date'] = pd.to_datetime(df['arrival_date'])\n",
    "df['date'] = df['date'] + pd.offsets.Day() - pd.offsets.MonthBegin()\n",
    "df_fechas = df.groupby('date').agg(sum_room_child = ('dummy_children', 'sum'),\n",
    "                                  cant_room = ('dummy_children', 'count')).reset_index()\n",
    "df_fechas['porc_room_child'] = df_fechas['sum_room_child']/df_fechas['cant_room']\n",
    "# df_fechas\n",
    "sns.set(rc={'figure.figsize':(11.7,8.27)})\n",
    "ax = plt.axes()\n",
    "sns.lineplot(x = 'date', y = 'porc_room_child',data=df_fechas)\n",
    "plt.ylabel('Porcentaje de reservas con niños', size=15)\n",
    "plt.xlabel('Fecha', size=15)\n",
    "ax.xaxis.set_tick_params(pad = 5, labelsize=15)\n",
    "ax.yaxis.set_tick_params(pad = 10, labelsize=15)\n",
    "plt.show()\n"
   ]
  },
  {
   "cell_type": "markdown",
   "metadata": {},
   "source": [
    "La relación entre la proporción de reservas con niños la fecha de arribo parece tener picos en los meses 7 y 8 (correspondiente a épocas de alta demanda por vacaciones de los niños en el hemisferio norte). Por lo tanto se creará una variable que se corresponda con la alta demanda en esas fechas: \"high_demand\"."
   ]
  },
  {
   "cell_type": "code",
   "execution_count": 17,
   "metadata": {},
   "outputs": [
    {
     "data": {
      "text/html": [
       "<div>\n",
       "<style scoped>\n",
       "    .dataframe tbody tr th:only-of-type {\n",
       "        vertical-align: middle;\n",
       "    }\n",
       "\n",
       "    .dataframe tbody tr th {\n",
       "        vertical-align: top;\n",
       "    }\n",
       "\n",
       "    .dataframe thead tr th {\n",
       "        text-align: left;\n",
       "    }\n",
       "\n",
       "    .dataframe thead tr:last-of-type th {\n",
       "        text-align: right;\n",
       "    }\n",
       "</style>\n",
       "<table border=\"1\" class=\"dataframe\">\n",
       "  <thead>\n",
       "    <tr>\n",
       "      <th></th>\n",
       "      <th colspan=\"2\" halign=\"left\">porc</th>\n",
       "    </tr>\n",
       "    <tr>\n",
       "      <th>children</th>\n",
       "      <th>children</th>\n",
       "      <th>none</th>\n",
       "    </tr>\n",
       "    <tr>\n",
       "      <th>month</th>\n",
       "      <th></th>\n",
       "      <th></th>\n",
       "    </tr>\n",
       "  </thead>\n",
       "  <tbody>\n",
       "    <tr>\n",
       "      <th>1</th>\n",
       "      <td>6.106232</td>\n",
       "      <td>93.893768</td>\n",
       "    </tr>\n",
       "    <tr>\n",
       "      <th>2</th>\n",
       "      <td>9.497746</td>\n",
       "      <td>90.502254</td>\n",
       "    </tr>\n",
       "    <tr>\n",
       "      <th>3</th>\n",
       "      <td>6.089239</td>\n",
       "      <td>93.910761</td>\n",
       "    </tr>\n",
       "    <tr>\n",
       "      <th>4</th>\n",
       "      <td>8.890101</td>\n",
       "      <td>91.109899</td>\n",
       "    </tr>\n",
       "    <tr>\n",
       "      <th>5</th>\n",
       "      <td>6.025896</td>\n",
       "      <td>93.974104</td>\n",
       "    </tr>\n",
       "    <tr>\n",
       "      <th>6</th>\n",
       "      <td>7.756003</td>\n",
       "      <td>92.243997</td>\n",
       "    </tr>\n",
       "    <tr>\n",
       "      <th>7</th>\n",
       "      <td>16.349727</td>\n",
       "      <td>83.650273</td>\n",
       "    </tr>\n",
       "    <tr>\n",
       "      <th>8</th>\n",
       "      <td>17.484723</td>\n",
       "      <td>82.515277</td>\n",
       "    </tr>\n",
       "    <tr>\n",
       "      <th>9</th>\n",
       "      <td>5.845881</td>\n",
       "      <td>94.154119</td>\n",
       "    </tr>\n",
       "    <tr>\n",
       "      <th>10</th>\n",
       "      <td>6.425365</td>\n",
       "      <td>93.574635</td>\n",
       "    </tr>\n",
       "    <tr>\n",
       "      <th>11</th>\n",
       "      <td>4.324734</td>\n",
       "      <td>95.675266</td>\n",
       "    </tr>\n",
       "    <tr>\n",
       "      <th>12</th>\n",
       "      <td>9.670782</td>\n",
       "      <td>90.329218</td>\n",
       "    </tr>\n",
       "  </tbody>\n",
       "</table>\n",
       "</div>"
      ],
      "text/plain": [
       "               porc           \n",
       "children   children       none\n",
       "month                         \n",
       "1          6.106232  93.893768\n",
       "2          9.497746  90.502254\n",
       "3          6.089239  93.910761\n",
       "4          8.890101  91.109899\n",
       "5          6.025896  93.974104\n",
       "6          7.756003  92.243997\n",
       "7         16.349727  83.650273\n",
       "8         17.484723  82.515277\n",
       "9          5.845881  94.154119\n",
       "10         6.425365  93.574635\n",
       "11         4.324734  95.675266\n",
       "12         9.670782  90.329218"
      ]
     },
     "execution_count": 17,
     "metadata": {},
     "output_type": "execute_result"
    }
   ],
   "source": [
    "hotels['month'] = pd.to_datetime(hotels['arrival_date']).dt.month\n",
    "df = hotels[['month', \"children\", \"dummy_children\"]] \n",
    "group_mc = df.groupby([\"month\", \"children\"]).count().reset_index()\n",
    "group_m = df.groupby([\"month\"]).count().reset_index().drop(columns=\"dummy_children\").rename(columns={\"children\":\"total\"})\n",
    "group = group_mc.merge(group_m, how=\"left\", on=\"month\").rename(columns={\"dummy_children\":\"count\"})\n",
    "group[\"porc\"] = (group[\"count\"]/group[\"total\"])*100\n",
    "\n",
    "tabla_mes = pd.pivot_table(group[[\"month\",\"children\", \"porc\"]], index= \"month\", columns= \"children\")\n",
    "tabla_mes"
   ]
  },
  {
   "cell_type": "code",
   "execution_count": 18,
   "metadata": {},
   "outputs": [
    {
     "data": {
      "text/plain": [
       "count    42278.000000\n",
       "mean         0.228204\n",
       "std          0.419680\n",
       "min          0.000000\n",
       "25%          0.000000\n",
       "50%          0.000000\n",
       "75%          0.000000\n",
       "max          1.000000\n",
       "Name: high_demand, dtype: float64"
      ]
     },
     "execution_count": 18,
     "metadata": {},
     "output_type": "execute_result"
    }
   ],
   "source": [
    "hotels[\"high_demand\"] = np.where((hotels['month'] == 7) | (hotels['month'] == 8), 1,0)\n",
    "hotels[\"high_demand\"].describe()"
   ]
  },
  {
   "cell_type": "markdown",
   "metadata": {},
   "source": [
    "#### Tipo de habitación: reservada vs asignada"
   ]
  },
  {
   "cell_type": "code",
   "execution_count": 19,
   "metadata": {},
   "outputs": [
    {
     "name": "stdout",
     "output_type": "stream",
     "text": [
      "['A' 'D' 'F' 'C' 'B' 'E' 'G' 'H' 'L']\n",
      "['A' 'K' 'F' 'C' 'D' 'E' 'I' 'B' 'G' 'H']\n"
     ]
    }
   ],
   "source": [
    "print(hotels[\"reserved_room_type\"].unique())\n",
    "print(hotels[\"assigned_room_type\"].unique())\n"
   ]
  },
  {
   "cell_type": "markdown",
   "metadata": {},
   "source": [
    "Entendiendo que cuando las familias eligen la habitación tienen en cuenta si tienen niños o no, analizaremos la variable \"reserved_room_type\". Por lo tanto, se creará una nueva variable \"reserved_room_children\", que será 1 si el porcentaje de reservas con niños de cada tipo de habitación es alto (mayor al 45%); es decir, se disminuye la cardinalidad de la variable de reserva."
   ]
  },
  {
   "cell_type": "code",
   "execution_count": 20,
   "metadata": {},
   "outputs": [],
   "source": [
    "# reserved_room_type\n",
    "\n",
    "rrt = hotels[[\"reserved_room_type\", \"children\",\"dummy_children\"]]\n",
    "group_rr_c = rrt.groupby([\"reserved_room_type\", \"children\"]).count().reset_index()\n",
    "group_rr = rrt.groupby([\"reserved_room_type\"]).count().reset_index().drop(columns=\"dummy_children\").rename(columns={\"children\":\"total\"})\n",
    "group = group_rr_c.merge(group_rr, how=\"left\", on=\"reserved_room_type\").rename(columns={\"dummy_children\":\"count\"})\n",
    "group[\"porc\"] = (group[\"count\"]/group[\"total\"])*100\n"
   ]
  },
  {
   "cell_type": "code",
   "execution_count": 21,
   "metadata": {},
   "outputs": [
    {
     "data": {
      "text/html": [
       "<div>\n",
       "<style scoped>\n",
       "    .dataframe tbody tr th:only-of-type {\n",
       "        vertical-align: middle;\n",
       "    }\n",
       "\n",
       "    .dataframe tbody tr th {\n",
       "        vertical-align: top;\n",
       "    }\n",
       "\n",
       "    .dataframe thead th {\n",
       "        text-align: right;\n",
       "    }\n",
       "</style>\n",
       "<table border=\"1\" class=\"dataframe\">\n",
       "  <thead>\n",
       "    <tr style=\"text-align: right;\">\n",
       "      <th></th>\n",
       "      <th>reserved_room_type</th>\n",
       "      <th>children</th>\n",
       "      <th>none</th>\n",
       "      <th>cant_obs</th>\n",
       "    </tr>\n",
       "  </thead>\n",
       "  <tbody>\n",
       "    <tr>\n",
       "      <th>0</th>\n",
       "      <td>A</td>\n",
       "      <td>5.262035</td>\n",
       "      <td>94.737965</td>\n",
       "      <td>28126</td>\n",
       "    </tr>\n",
       "    <tr>\n",
       "      <th>1</th>\n",
       "      <td>B</td>\n",
       "      <td>28.863636</td>\n",
       "      <td>71.136364</td>\n",
       "      <td>440</td>\n",
       "    </tr>\n",
       "    <tr>\n",
       "      <th>2</th>\n",
       "      <td>C</td>\n",
       "      <td>70.864198</td>\n",
       "      <td>29.135802</td>\n",
       "      <td>405</td>\n",
       "    </tr>\n",
       "    <tr>\n",
       "      <th>3</th>\n",
       "      <td>D</td>\n",
       "      <td>5.631020</td>\n",
       "      <td>94.368980</td>\n",
       "      <td>8098</td>\n",
       "    </tr>\n",
       "    <tr>\n",
       "      <th>4</th>\n",
       "      <td>E</td>\n",
       "      <td>8.956252</td>\n",
       "      <td>91.043748</td>\n",
       "      <td>2903</td>\n",
       "    </tr>\n",
       "    <tr>\n",
       "      <th>5</th>\n",
       "      <td>F</td>\n",
       "      <td>49.190939</td>\n",
       "      <td>50.809061</td>\n",
       "      <td>1236</td>\n",
       "    </tr>\n",
       "    <tr>\n",
       "      <th>6</th>\n",
       "      <td>G</td>\n",
       "      <td>65.035800</td>\n",
       "      <td>34.964200</td>\n",
       "      <td>838</td>\n",
       "    </tr>\n",
       "    <tr>\n",
       "      <th>7</th>\n",
       "      <td>H</td>\n",
       "      <td>73.913043</td>\n",
       "      <td>26.086957</td>\n",
       "      <td>230</td>\n",
       "    </tr>\n",
       "    <tr>\n",
       "      <th>8</th>\n",
       "      <td>L</td>\n",
       "      <td>0.000000</td>\n",
       "      <td>100.000000</td>\n",
       "      <td>2</td>\n",
       "    </tr>\n",
       "  </tbody>\n",
       "</table>\n",
       "</div>"
      ],
      "text/plain": [
       "  reserved_room_type   children        none  cant_obs\n",
       "0                  A   5.262035   94.737965     28126\n",
       "1                  B  28.863636   71.136364       440\n",
       "2                  C  70.864198   29.135802       405\n",
       "3                  D   5.631020   94.368980      8098\n",
       "4                  E   8.956252   91.043748      2903\n",
       "5                  F  49.190939   50.809061      1236\n",
       "6                  G  65.035800   34.964200       838\n",
       "7                  H  73.913043   26.086957       230\n",
       "8                  L   0.000000  100.000000         2"
      ]
     },
     "execution_count": 21,
     "metadata": {},
     "output_type": "execute_result"
    }
   ],
   "source": [
    "group_count = group.pivot(index = \"reserved_room_type\", columns='children')['count']\n",
    "group_porc = group.pivot(index = \"reserved_room_type\", columns='children')['porc']\n",
    "group_porc = group_porc.merge(group_rr, how=\"left\",on=\"reserved_room_type\").rename(columns={\"total\":\"cant_obs\"}).fillna(0)\n",
    "group_count = group_count.merge(group_rr, how=\"left\",on=\"reserved_room_type\").rename(columns={\"total\":\"cant_obs\"}).fillna(0)\n",
    "group_porc"
   ]
  },
  {
   "cell_type": "code",
   "execution_count": 22,
   "metadata": {},
   "outputs": [],
   "source": [
    "# Categórica que englobe las que tienen más presencia de niños\n",
    "hotels[\"reserved_room_children\"] = np.where( \n",
    "                               (hotels[\"reserved_room_type\"] == \"C\") |\n",
    "                               (hotels[\"reserved_room_type\"] == \"F\") |\n",
    "                               (hotels[\"reserved_room_type\"] == \"G\") |\n",
    "                               (hotels[\"reserved_room_type\"] == \"H\") , 1,0)"
   ]
  },
  {
   "cell_type": "markdown",
   "metadata": {},
   "source": [
    "Al existir un tipo de variable de reserva de habitación y una de asignación, se asume que hay habitaciones que se asignan distinto a lo que se reservó. Es decir que existe un cambio de tipo de habitación: una familia puede elegir el tipo A y al final se le asigna otra habitación. Para capturar este cambio se crea la variable 'change_room_type'."
   ]
  },
  {
   "cell_type": "code",
   "execution_count": 23,
   "metadata": {},
   "outputs": [
    {
     "name": "stdout",
     "output_type": "stream",
     "text": [
      "Existen  8022  observaciones donde se cambió la habitación respecto de la reservada\n"
     ]
    }
   ],
   "source": [
    "# se cambió la habitación respecto a la reservada?\n",
    "ver = hotels.copy()\n",
    "ver[\"change_room_type\"] = np.where(ver[\"assigned_room_type\"] == ver[\"reserved_room_type\"], 0,1)\n",
    "tabla = ver[[\"change_room_type\"]].value_counts().reset_index()#.set_index('change_room_type')\n",
    "tabla.columns\n",
    "print(\"Existen \", tabla.iloc[1,1] ,\" observaciones donde se cambió la habitación respecto de la reservada\")"
   ]
  },
  {
   "cell_type": "code",
   "execution_count": 24,
   "metadata": {},
   "outputs": [],
   "source": [
    "hotels[\"change_room_type\"] = np.where(hotels[\"assigned_room_type\"] == hotels[\"reserved_room_type\"], 0,1)"
   ]
  },
  {
   "cell_type": "markdown",
   "metadata": {},
   "source": [
    "#### Variables Categóricas"
   ]
  },
  {
   "cell_type": "markdown",
   "metadata": {},
   "source": [
    "Tipo de consumidor"
   ]
  },
  {
   "cell_type": "code",
   "execution_count": 25,
   "metadata": {},
   "outputs": [
    {
     "data": {
      "image/png": "[encoded data removed]",
      "text/plain": [
       "<Figure size 720x432 with 1 Axes>"
      ]
     },
     "metadata": {},
     "output_type": "display_data"
    }
   ],
   "source": [
    "plt.figure(figsize=(10,6))\n",
    "sns.set(style = \"darkgrid\")\n",
    "plt.title(\"Costumer Type\", fontdict = {'fontsize': 20})\n",
    "axis = sns.countplot(x = \"customer_type\", hue = 'children', data = hotels)"
   ]
  },
  {
   "cell_type": "markdown",
   "metadata": {},
   "source": [
    "Considerando que no hay un patrón muy claro respecto a los tipos de consumidores, no se elabora una variable nueva."
   ]
  },
  {
   "cell_type": "code",
   "execution_count": 26,
   "metadata": {},
   "outputs": [
    {
     "data": {
      "text/html": [
       "<div>\n",
       "<style scoped>\n",
       "    .dataframe tbody tr th:only-of-type {\n",
       "        vertical-align: middle;\n",
       "    }\n",
       "\n",
       "    .dataframe tbody tr th {\n",
       "        vertical-align: top;\n",
       "    }\n",
       "\n",
       "    .dataframe thead th {\n",
       "        text-align: right;\n",
       "    }\n",
       "</style>\n",
       "<table border=\"1\" class=\"dataframe\">\n",
       "  <thead>\n",
       "    <tr style=\"text-align: right;\">\n",
       "      <th></th>\n",
       "      <th>customer_type</th>\n",
       "      <th>children</th>\n",
       "      <th>none</th>\n",
       "      <th>cant_obs</th>\n",
       "    </tr>\n",
       "  </thead>\n",
       "  <tbody>\n",
       "    <tr>\n",
       "      <th>0</th>\n",
       "      <td>Contract</td>\n",
       "      <td>5.738636</td>\n",
       "      <td>94.261364</td>\n",
       "      <td>1760</td>\n",
       "    </tr>\n",
       "    <tr>\n",
       "      <th>1</th>\n",
       "      <td>Group</td>\n",
       "      <td>4.970760</td>\n",
       "      <td>95.029240</td>\n",
       "      <td>342</td>\n",
       "    </tr>\n",
       "    <tr>\n",
       "      <th>2</th>\n",
       "      <td>Transient</td>\n",
       "      <td>10.499623</td>\n",
       "      <td>89.500377</td>\n",
       "      <td>33125</td>\n",
       "    </tr>\n",
       "    <tr>\n",
       "      <th>3</th>\n",
       "      <td>Transient-Party</td>\n",
       "      <td>4.779464</td>\n",
       "      <td>95.220536</td>\n",
       "      <td>7051</td>\n",
       "    </tr>\n",
       "  </tbody>\n",
       "</table>\n",
       "</div>"
      ],
      "text/plain": [
       "     customer_type   children       none  cant_obs\n",
       "0         Contract   5.738636  94.261364      1760\n",
       "1            Group   4.970760  95.029240       342\n",
       "2        Transient  10.499623  89.500377     33125\n",
       "3  Transient-Party   4.779464  95.220536      7051"
      ]
     },
     "execution_count": 26,
     "metadata": {},
     "output_type": "execute_result"
    }
   ],
   "source": [
    "# customer_type\n",
    "\n",
    "rrt = hotels[[\"customer_type\", \"children\",\"dummy_children\"]]\n",
    "group_rr_c = rrt.groupby([\"customer_type\", \"children\"]).count().reset_index()\n",
    "group_rr = rrt.groupby([\"customer_type\"]).count().reset_index().drop(columns=\"dummy_children\").rename(columns={\"children\":\"total\"})\n",
    "group = group_rr_c.merge(group_rr, how=\"left\", on=\"customer_type\").rename(columns={\"dummy_children\":\"count\"})\n",
    "group[\"porc\"] = (group[\"count\"]/group[\"total\"])*100\n",
    "group_count = group.pivot(index = \"customer_type\", columns='children')['count']\n",
    "group_porc = group.pivot(index = \"customer_type\", columns='children')['porc']\n",
    "group_porc = group_porc.merge(group_rr, how=\"left\",on=\"customer_type\").rename(columns={\"total\":\"cant_obs\"}).fillna(0)\n",
    "group_count = group_count.merge(group_rr, how=\"left\",on=\"customer_type\").rename(columns={\"total\":\"cant_obs\"}).fillna(0)\n",
    "group_porc"
   ]
  },
  {
   "cell_type": "markdown",
   "metadata": {},
   "source": [
    "Segmento de mercado"
   ]
  },
  {
   "cell_type": "code",
   "execution_count": 27,
   "metadata": {},
   "outputs": [
    {
     "data": {
      "image/png": "[encoded data removed]",
      "text/plain": [
       "<Figure size 720x432 with 1 Axes>"
      ]
     },
     "metadata": {},
     "output_type": "display_data"
    }
   ],
   "source": [
    "# graficos para categoricas\n",
    "plt.figure(figsize=(10,6))\n",
    "sns.set(style = \"darkgrid\")\n",
    "plt.title(\"Market Segment\", fontdict = {'fontsize': 20})\n",
    "axis = sns.countplot(x = \"market_segment\", hue = 'children', data = hotels)"
   ]
  },
  {
   "cell_type": "markdown",
   "metadata": {},
   "source": [
    "Para el caso de segmento de mercado, se creará una variable \"segment_nochild\" incluyendo aquellos segmentos donde parece más improbable que se lleven niños - de nuevo, es una forma de reducir cardinalidad"
   ]
  },
  {
   "cell_type": "code",
   "execution_count": 28,
   "metadata": {},
   "outputs": [
    {
     "data": {
      "text/html": [
       "<div>\n",
       "<style scoped>\n",
       "    .dataframe tbody tr th:only-of-type {\n",
       "        vertical-align: middle;\n",
       "    }\n",
       "\n",
       "    .dataframe tbody tr th {\n",
       "        vertical-align: top;\n",
       "    }\n",
       "\n",
       "    .dataframe thead th {\n",
       "        text-align: right;\n",
       "    }\n",
       "</style>\n",
       "<table border=\"1\" class=\"dataframe\">\n",
       "  <thead>\n",
       "    <tr style=\"text-align: right;\">\n",
       "      <th></th>\n",
       "      <th>market_segment</th>\n",
       "      <th>children</th>\n",
       "      <th>none</th>\n",
       "      <th>cant_obs</th>\n",
       "    </tr>\n",
       "  </thead>\n",
       "  <tbody>\n",
       "    <tr>\n",
       "      <th>0</th>\n",
       "      <td>Aviation</td>\n",
       "      <td>0.000000</td>\n",
       "      <td>100.000000</td>\n",
       "      <td>119</td>\n",
       "    </tr>\n",
       "    <tr>\n",
       "      <th>1</th>\n",
       "      <td>Complementary</td>\n",
       "      <td>17.073171</td>\n",
       "      <td>82.926829</td>\n",
       "      <td>41</td>\n",
       "    </tr>\n",
       "    <tr>\n",
       "      <th>2</th>\n",
       "      <td>Corporate</td>\n",
       "      <td>1.219512</td>\n",
       "      <td>98.780488</td>\n",
       "      <td>2460</td>\n",
       "    </tr>\n",
       "    <tr>\n",
       "      <th>3</th>\n",
       "      <td>Direct</td>\n",
       "      <td>14.578656</td>\n",
       "      <td>85.421344</td>\n",
       "      <td>6681</td>\n",
       "    </tr>\n",
       "    <tr>\n",
       "      <th>4</th>\n",
       "      <td>Groups</td>\n",
       "      <td>1.572327</td>\n",
       "      <td>98.427673</td>\n",
       "      <td>2544</td>\n",
       "    </tr>\n",
       "    <tr>\n",
       "      <th>5</th>\n",
       "      <td>Offline_TA/TO</td>\n",
       "      <td>4.876536</td>\n",
       "      <td>95.123464</td>\n",
       "      <td>8059</td>\n",
       "    </tr>\n",
       "    <tr>\n",
       "      <th>6</th>\n",
       "      <td>Online_TA</td>\n",
       "      <td>11.124520</td>\n",
       "      <td>88.875480</td>\n",
       "      <td>22374</td>\n",
       "    </tr>\n",
       "  </tbody>\n",
       "</table>\n",
       "</div>"
      ],
      "text/plain": [
       "  market_segment   children        none  cant_obs\n",
       "0       Aviation   0.000000  100.000000       119\n",
       "1  Complementary  17.073171   82.926829        41\n",
       "2      Corporate   1.219512   98.780488      2460\n",
       "3         Direct  14.578656   85.421344      6681\n",
       "4         Groups   1.572327   98.427673      2544\n",
       "5  Offline_TA/TO   4.876536   95.123464      8059\n",
       "6      Online_TA  11.124520   88.875480     22374"
      ]
     },
     "execution_count": 28,
     "metadata": {},
     "output_type": "execute_result"
    }
   ],
   "source": [
    "# market_segment\n",
    "\n",
    "rrt = hotels[[\"market_segment\", \"children\",\"dummy_children\"]]\n",
    "group_rr_c = rrt.groupby([\"market_segment\", \"children\"]).count().reset_index()\n",
    "group_rr = rrt.groupby([\"market_segment\"]).count().reset_index().drop(columns=\"dummy_children\").rename(columns={\"children\":\"total\"})\n",
    "group = group_rr_c.merge(group_rr, how=\"left\", on=\"market_segment\").rename(columns={\"dummy_children\":\"count\"})\n",
    "group[\"porc\"] = (group[\"count\"]/group[\"total\"])*100\n",
    "group_count = group.pivot(index = \"market_segment\", columns='children')['count']\n",
    "group_porc = group.pivot(index = \"market_segment\", columns='children')['porc']\n",
    "group_porc = group_porc.merge(group_rr, how=\"left\",on=\"market_segment\").rename(columns={\"total\":\"cant_obs\"}).fillna(0)\n",
    "group_count = group_count.merge(group_rr, how=\"left\",on=\"market_segment\").rename(columns={\"total\":\"cant_obs\"}).fillna(0)\n",
    "group_porc"
   ]
  },
  {
   "cell_type": "code",
   "execution_count": 29,
   "metadata": {},
   "outputs": [],
   "source": [
    "# Categórica que englobe las que tienen menos presencia de niños\n",
    "hotels[\"segment_nochild\"] = np.where( \n",
    "                               (hotels[\"market_segment\"] == \"Aviation\") |\n",
    "                               (hotels[\"market_segment\"] == \"Corporate\") |\n",
    "                               (hotels[\"market_segment\"] == \"Groups\") , 1,0)"
   ]
  },
  {
   "cell_type": "markdown",
   "metadata": {},
   "source": [
    "Requerimiento para estacionar autos"
   ]
  },
  {
   "cell_type": "code",
   "execution_count": 30,
   "metadata": {},
   "outputs": [
    {
     "data": {
      "image/png": "[encoded data removed]",
      "text/plain": [
       "<Figure size 720x432 with 1 Axes>"
      ]
     },
     "metadata": {},
     "output_type": "display_data"
    }
   ],
   "source": [
    "# graficos para categoricas\n",
    "plt.figure(figsize=(10,6))\n",
    "sns.set(style = \"darkgrid\")\n",
    "plt.title(\"Parking\", fontdict = {'fontsize': 20})\n",
    "axis = sns.countplot(x = \"required_car_parking_spaces\", hue = 'children', data = hotels)"
   ]
  },
  {
   "cell_type": "markdown",
   "metadata": {},
   "source": [
    "#### Correlaciones con variable target"
   ]
  },
  {
   "cell_type": "markdown",
   "metadata": {},
   "source": [
    "A continuación se presentan las correlaciones con la variable target: \"children\".\n",
    "\n",
    "En una primera instancias se correlaciona con las variables continuas mediante la correlación de pearson y luego se utiliza la correlación V de Cramer para las variables categóricas."
   ]
  },
  {
   "cell_type": "code",
   "execution_count": 31,
   "metadata": {},
   "outputs": [
    {
     "data": {
      "text/plain": [
       "reserved_room_children            0.451557\n",
       "average_daily_rate                0.305963\n",
       "adr_per_adult                     0.206676\n",
       "high_demand                       0.143093\n",
       "total_of_special_requests         0.131790\n",
       "segment_nochild                   0.101454\n",
       "booking_changes                   0.085422\n",
       "adults                            0.065032\n",
       "is_repeated_guest                 0.048787\n",
       "previous_bookings_not_canceled    0.034279\n",
       "days_in_waiting_list              0.020012\n",
       "previous_cancellations            0.018417\n",
       "lead_time                         0.018252\n",
       "month                             0.017479\n",
       "stays_in_weekend_nights           0.017016\n",
       "stays_in_week_nights              0.015359\n",
       "change_room_type                  0.002022\n",
       "Name: dummy_children, dtype: float64"
      ]
     },
     "execution_count": 31,
     "metadata": {},
     "output_type": "execute_result"
    }
   ],
   "source": [
    "# Al crear la variable dummy_children se puede obtener una correlación\n",
    "correlation = hotels.corr()[\"dummy_children\"]\n",
    "correlation.abs().sort_values(ascending=False)[1:]"
   ]
  },
  {
   "cell_type": "markdown",
   "metadata": {},
   "source": [
    "Las variables con mayor correlación entre las variables continuas son: adr, adr por adulto, la cantidad de pedidos especiales y los cambios en la reserva."
   ]
  },
  {
   "cell_type": "code",
   "execution_count": 32,
   "metadata": {},
   "outputs": [
    {
     "data": {
      "image/png": "[encoded data removed]",
      "text/plain": [
       "<Figure size 720x720 with 2 Axes>"
      ]
     },
     "metadata": {},
     "output_type": "display_data"
    }
   ],
   "source": [
    "# Una mejor visualización de las correlaciones en la base puede hacerse mediante las librerias plt y sns\n",
    "corr = hotels.drop(columns = [\"reserved_room_children\", \"change_room_type\", \"segment_nochild\", \"high_demand\"]).corr()\n",
    "fig, ax = plt.subplots(figsize=(10,10))\n",
    "colormap = sns.diverging_palette(220, 10, as_cmap=True)\n",
    "dropSelf = np.zeros_like(corr)\n",
    "dropSelf[np.triu_indices_from(dropSelf)] = True\n",
    "colormap = sns.diverging_palette(220, 10, as_cmap=True)\n",
    "sns.heatmap(corr, cmap=colormap, linewidths=.5, annot=True, fmt=\".2f\", mask=dropSelf)\n",
    "plt.show()"
   ]
  },
  {
   "cell_type": "code",
   "execution_count": 33,
   "metadata": {},
   "outputs": [],
   "source": [
    "# Correlación entre categporicas: V cramers\n",
    "\n",
    "from scipy.stats import chi2_contingency\n",
    "\n",
    "def cramers_V(var1,var2) :\n",
    "  crosstab = np.array(pd.crosstab(var1,var2, rownames=None, colnames=None)) \n",
    "  stat = chi2_contingency(crosstab)[0]\n",
    "  obs = np.sum(crosstab) \n",
    "  mini = min(crosstab.shape)-1 \n",
    "  return (stat/(obs*mini))"
   ]
  },
  {
   "cell_type": "code",
   "execution_count": 34,
   "metadata": {},
   "outputs": [],
   "source": [
    "# hotels.columns"
   ]
  },
  {
   "cell_type": "code",
   "execution_count": 35,
   "metadata": {},
   "outputs": [],
   "source": [
    "from sklearn import preprocessing\n",
    "\n",
    "categ = hotels[['children','hotel', 'meal', 'market_segment', \n",
    "                'distribution_channel', \"segment_nochild\",\n",
    "                'reserved_room_type','assigned_room_type', \n",
    "                'deposit_type', \n",
    "                \"country\",\n",
    "                'reserved_room_children','high_demand', 'change_room_type' ]]\n",
    "\n",
    "label = preprocessing.LabelEncoder()\n",
    "data_encoded = pd.DataFrame() \n",
    "\n",
    "for i in categ.columns :\n",
    "  data_encoded[i]=label.fit_transform(categ[i])\n",
    "\n",
    "label = preprocessing.LabelEncoder()\n",
    "data_encoded = pd.DataFrame() \n",
    "\n",
    "for i in categ.columns :\n",
    "  data_encoded[i]=label.fit_transform(categ[i])\n",
    "\n",
    "rows= []\n",
    "\n",
    "for var1 in data_encoded:\n",
    "  col = []\n",
    "  for var2 in data_encoded :\n",
    "    cramers =cramers_V(data_encoded[var1], data_encoded[var2]) # Cramer's V test\n",
    "    col.append(round(cramers,2)) # Keeping of the rounded value of the Cramer's V  \n",
    "  rows.append(col)\n",
    "  \n",
    "cramers_results = np.array(rows)\n",
    "df = pd.DataFrame(cramers_results, columns = data_encoded.columns, index =data_encoded.columns)\n"
   ]
  },
  {
   "cell_type": "markdown",
   "metadata": {},
   "source": [
    "La variable \"reserved_room_children\" resulta correlacionada con la variable target. Al igual que las variables de reserva y asignación de tipo de habitación."
   ]
  },
  {
   "cell_type": "code",
   "execution_count": 36,
   "metadata": {},
   "outputs": [
    {
     "data": {
      "image/png": "[encoded data removed]",
      "text/plain": [
       "<Figure size 576x576 with 2 Axes>"
      ]
     },
     "metadata": {},
     "output_type": "display_data"
    }
   ],
   "source": [
    "corr = df\n",
    "fig, ax = plt.subplots(figsize=(8, 8))\n",
    "colormap = sns.diverging_palette(220, 10, as_cmap=True)\n",
    "dropSelf = np.zeros_like(corr)\n",
    "dropSelf[np.triu_indices_from(dropSelf)] = True\n",
    "colormap = sns.diverging_palette(220, 10, as_cmap=True)\n",
    "sns.heatmap(corr, cmap=colormap, linewidths=.5, annot=True, fmt=\".2f\", mask=dropSelf)\n",
    "plt.show()"
   ]
  },
  {
   "cell_type": "markdown",
   "metadata": {},
   "source": [
    "## Part II - Modeling\n",
    "\n",
    "We will build the best model to predict which actual hotel stays included children/babies, and which did not:"
   ]
  },
  {
   "cell_type": "markdown",
   "metadata": {},
   "source": [
    "### 1. Benchmark"
   ]
  },
  {
   "cell_type": "markdown",
   "metadata": {},
   "source": [
    "Primero modelamos considerando solo las variables iniciales, sin tener en cuenta las nuevas creadas. Las variables que no se incluyen del set original son \"country\" y \"arrival date\"."
   ]
  },
  {
   "cell_type": "code",
   "execution_count": 37,
   "metadata": {},
   "outputs": [],
   "source": [
    "# Dejamos definida una semilla para los modelos\n",
    "seed = 11"
   ]
  },
  {
   "cell_type": "code",
   "execution_count": 38,
   "metadata": {},
   "outputs": [],
   "source": [
    "from sklearn.model_selection import train_test_split, KFold, cross_validate, cross_val_score\n",
    "from sklearn import metrics\n",
    "from sklearn.metrics import classification_report\n",
    "from sklearn.model_selection import KFold\n",
    "from sklearn.ensemble import RandomForestClassifier\n",
    "from sklearn.metrics import confusion_matrix, plot_confusion_matrix\n",
    "\n",
    "import matplotlib.pyplot as plt\n",
    "\n",
    "import xgboost as xgb\n",
    "\n",
    "import lightgbm as lgb"
   ]
  },
  {
   "cell_type": "code",
   "execution_count": 39,
   "metadata": {},
   "outputs": [
    {
     "data": {
      "text/plain": [
       "(42278, 30)"
      ]
     },
     "execution_count": 39,
     "metadata": {},
     "output_type": "execute_result"
    }
   ],
   "source": [
    "# guardamos una copia de la base resultante del EDA \n",
    "hotels_origin = hotels.copy()\n",
    "\n",
    "hotels_origin.shape"
   ]
  },
  {
   "cell_type": "code",
   "execution_count": 40,
   "metadata": {},
   "outputs": [
    {
     "data": {
      "text/plain": [
       "Index(['lead_time', 'stays_in_weekend_nights', 'stays_in_week_nights',\n",
       "       'adults', 'is_repeated_guest', 'previous_cancellations',\n",
       "       'previous_bookings_not_canceled', 'booking_changes',\n",
       "       'days_in_waiting_list', 'average_daily_rate',\n",
       "       'total_of_special_requests', 'dummy_children', 'hotel_Resort_Hotel',\n",
       "       'meal_FB', 'meal_HB', 'meal_SC', 'meal_Undefined',\n",
       "       'market_segment_Complementary', 'market_segment_Corporate',\n",
       "       'market_segment_Direct', 'market_segment_Groups',\n",
       "       'market_segment_Offline_TA/TO', 'market_segment_Online_TA',\n",
       "       'reserved_room_type_B', 'reserved_room_type_C', 'reserved_room_type_D',\n",
       "       'reserved_room_type_E', 'reserved_room_type_F', 'reserved_room_type_G',\n",
       "       'reserved_room_type_H', 'reserved_room_type_L', 'assigned_room_type_B',\n",
       "       'assigned_room_type_C', 'assigned_room_type_D', 'assigned_room_type_E',\n",
       "       'assigned_room_type_F', 'assigned_room_type_G', 'assigned_room_type_H',\n",
       "       'assigned_room_type_I', 'assigned_room_type_K', 'customer_type_Group',\n",
       "       'customer_type_Transient', 'customer_type_Transient-Party',\n",
       "       'required_car_parking_spaces_parking'],\n",
       "      dtype='object')"
      ]
     },
     "execution_count": 40,
     "metadata": {},
     "output_type": "execute_result"
    }
   ],
   "source": [
    "datos = hotels_origin.drop(columns = {\"arrival_date\", \"country\",\n",
    "                              \"children\",\"deposit_type\",\n",
    "                               'distribution_channel', 'reserved_room_children', \n",
    "                               'segment_nochild', \"change_room_type\",\n",
    "                                \"adr_per_adult\", 'month', \"high_demand\"\n",
    "                              })\n",
    "\n",
    "\n",
    "## sacar deposit_type\n",
    "datos2 = pd.get_dummies(datos,drop_first=True)\n",
    "\n",
    "datos2.columns"
   ]
  },
  {
   "cell_type": "code",
   "execution_count": 41,
   "metadata": {},
   "outputs": [],
   "source": [
    "# En esta celda se crea el set de entrenamiento y el set de test para poder evaluar el modelo\n",
    "X,y = datos2.drop(['dummy_children'],axis=1),datos2.dummy_children.astype('int')\n",
    "X_train, X_test, y_train, y_test = train_test_split(X, y, random_state=seed, train_size = .80)\n"
   ]
  },
  {
   "cell_type": "markdown",
   "metadata": {},
   "source": [
    "A continuación se entrenarán tres algoritmos: Random Forest, XGBoost y LightGBM"
   ]
  },
  {
   "cell_type": "markdown",
   "metadata": {},
   "source": [
    "Como medida de comparación utilizaremos el AUC (area under the curve del ROC), debido a que la variable target no se encuentra balanceda. Utilizar las medidas \"más tradicionales\" como accuracy llevaría a decisiones menos acertadas."
   ]
  },
  {
   "cell_type": "markdown",
   "metadata": {},
   "source": [
    "#### Random Forest"
   ]
  },
  {
   "cell_type": "markdown",
   "metadata": {},
   "source": [
    "El primer modelo es RF, se entrena con los valores por default de la librería."
   ]
  },
  {
   "cell_type": "code",
   "execution_count": 42,
   "metadata": {},
   "outputs": [],
   "source": [
    "## Se entrena el modelo sobre la base training:\n",
    "clf=RandomForestClassifier(random_state=seed)\n",
    "clf.fit(X_train, y_train)\n",
    "\n",
    "## Se predice sobre el 80% definido como testing:\n",
    "preds_rf_1 = clf.predict(X_test)"
   ]
  },
  {
   "cell_type": "code",
   "execution_count": 43,
   "metadata": {},
   "outputs": [
    {
     "name": "stdout",
     "output_type": "stream",
     "text": [
      "##### MODELOS BENCHMARK #####\n",
      "AUC rf: 0.709\n"
     ]
    }
   ],
   "source": [
    "### Dejo indicados algunos cálculos de medidas, dejando un print habilitado solo para el AUC\n",
    "# print (clf.score(X_train, y_train)) ## Sobre train (overfit)\n",
    "# print (clf.score(X_test, y_test)) ## Sobre test\n",
    "# print(sklearn.metrics.classification_report(y_test, preds_rf_1))\n",
    "\n",
    "# Curva ROC\n",
    "# fpr, tpr, thresholds = sklearn.metrics.roc_curve(y_test, preds_rf_1)\n",
    "\n",
    "# Plot ROC\n",
    "# plt.plot([0, 1], [0, 1], 'k--')\n",
    "# plt.plot(fpr, tpr)\n",
    "# plt.xlabel('False Positive Rate')\n",
    "# plt.ylabel('True Positive Rate')\n",
    "# plt.title('ROC Curve')\n",
    "# plt.show()\n",
    "\n",
    "# calculate AUC\n",
    "auc_rf_1 = sklearn.metrics.roc_auc_score(y_test, preds_rf_1)\n",
    "print(\"##### MODELOS BENCHMARK #####\")\n",
    "print('AUC rf: %.3f' % auc_rf_1)\n"
   ]
  },
  {
   "cell_type": "markdown",
   "metadata": {},
   "source": [
    "#### XGBoost"
   ]
  },
  {
   "cell_type": "markdown",
   "metadata": {},
   "source": [
    "Paso a considerar el modelo XGBoost - en una primera instancia dejo los hiperparámetros definidos por default y luego se tunean mediante un RandomizedSearchCV"
   ]
  },
  {
   "cell_type": "code",
   "execution_count": 44,
   "metadata": {},
   "outputs": [
    {
     "name": "stdout",
     "output_type": "stream",
     "text": [
      "[21:40:17] WARNING: C:\\Windows\\Temp\\abs_557yfx631l\\croots\\recipe\\xgboost-split_1659548953302\\work\\src\\learner.cc:1115: Starting in XGBoost 1.3.0, the default evaluation metric used with the objective 'binary:logistic' was changed from 'error' to 'logloss'. Explicitly set eval_metric if you'd like to restore the old behavior.\n"
     ]
    }
   ],
   "source": [
    "## Se entrena el modelo sobre la base training:\n",
    "model = xgb.XGBClassifier(random_state = seed)\n",
    "model.fit(X_train, y_train, verbose=False)\n",
    "\n",
    "## Se predice sobre el 80% definido como testing:\n",
    "preds_xgb_1 = model.predict(X_test)"
   ]
  },
  {
   "cell_type": "code",
   "execution_count": 45,
   "metadata": {},
   "outputs": [
    {
     "name": "stdout",
     "output_type": "stream",
     "text": [
      "##### MODELOS BENCHMARK #####\n",
      "AUC rf: 0.709\n",
      "AUC xgb: 0.722\n"
     ]
    }
   ],
   "source": [
    "# print (clf.score(X_train, y_train))\n",
    "# print (clf.score(X_test,y_test))\n",
    "# print(sklearn.metrics.classification_report(y_test, preds_xgb_1))\n",
    "\n",
    "auc_xgb_1 = sklearn.metrics.roc_auc_score(y_test, preds_xgb_1)\n",
    "\n",
    "print(\"##### MODELOS BENCHMARK #####\")\n",
    "print('AUC rf: %.3f' % auc_rf_1)\n",
    "print('AUC xgb: %.3f' % auc_xgb_1)\n",
    "\n",
    "# # Importancia de variables\n",
    "# xgb.plot_importance(model, max_num_features = 11)\n",
    "# plt.tight_layout()\n",
    "# plt.figure(figsize = (20, 22))\n",
    "# plt.show()"
   ]
  },
  {
   "cell_type": "code",
   "execution_count": 46,
   "metadata": {},
   "outputs": [
    {
     "name": "stdout",
     "output_type": "stream",
     "text": [
      "Fitting 5 folds for each of 5 candidates, totalling 25 fits\n",
      "[21:40:34] WARNING: C:\\Windows\\Temp\\abs_557yfx631l\\croots\\recipe\\xgboost-split_1659548953302\\work\\src\\learner.cc:1115: Starting in XGBoost 1.3.0, the default evaluation metric used with the objective 'binary:logistic' was changed from 'error' to 'logloss'. Explicitly set eval_metric if you'd like to restore the old behavior.\n",
      "[21:40:36] WARNING: C:\\Windows\\Temp\\abs_557yfx631l\\croots\\recipe\\xgboost-split_1659548953302\\work\\src\\learner.cc:1115: Starting in XGBoost 1.3.0, the default evaluation metric used with the objective 'binary:logistic' was changed from 'error' to 'logloss'. Explicitly set eval_metric if you'd like to restore the old behavior.\n"
     ]
    }
   ],
   "source": [
    "# Seleccionamos el modelos XGBoost para clasificacion\n",
    "\n",
    "clf = xgb.XGBClassifier(random_state = seed)\n",
    "\n",
    "# Se definen los hyperparámetros para realizar el tunning mediante cross validation\n",
    "\n",
    "params = {\n",
    "\"eta\"    : [0.05, 0.10,0,15,  0.20, 0.25,  0.30 ] ,\n",
    "'learning_rate' : [ 0.10,0.15,0.20,0.25,0.30],\n",
    "'max_depth' : [ 3, 4, 5, 6, 8, 10],\n",
    "'min_child_weight' : [ 1, 3, 5, 7 ],\n",
    "'gamma': [ 0.0, 0.1, 0.2 , 0.3, 0.4 ],\n",
    "'colsample_bytree' : [ 0.3, 0.4, 0.5 , 0.7 ]\n",
    "}\n",
    "\n",
    "# Se eligen los parámetros utilizando como scoring el area under the curve en el roc\n",
    "\n",
    "grid=sklearn.model_selection.RandomizedSearchCV(clf,param_distributions=params,n_iter=5,\n",
    "                                                scoring='roc_auc',n_jobs=-1,verbose=3,\n",
    "                                                random_state = seed)\n",
    "grid_result = grid.fit(X_train, y_train)\n",
    "grid_result.best_estimator_\n",
    "\n",
    "## Se entrena el modelo con los mejores estimadores sobre la base training:\n",
    "\n",
    "model = xgb.XGBClassifier(**grid_result.best_params_, random_state = seed)\n",
    "model.fit(X_train, y_train, verbose=False)\n",
    "\n",
    "## Se predice sobre el 80% definido como testing:\n",
    "preds_xgb_tun_1 = model.predict(X_test)"
   ]
  },
  {
   "cell_type": "code",
   "execution_count": 47,
   "metadata": {},
   "outputs": [
    {
     "name": "stdout",
     "output_type": "stream",
     "text": [
      "##### MODELOS BENCHMARK #####\n",
      "AUC rf: 0.709\n",
      "AUC xgb: 0.722\n",
      "AUC xgb tune: 0.717\n"
     ]
    }
   ],
   "source": [
    "# print (model.score(X_train, y_train))\n",
    "# print (model.score(X_test,y_test))\n",
    "# print(sklearn.metrics.classification_report(y_test, preds_xgb_tun_1))\n",
    "\n",
    "auc_xgb_tun_1 = sklearn.metrics.roc_auc_score(y_test, preds_xgb_tun_1)\n",
    "\n",
    "print(\"##### MODELOS BENCHMARK #####\")\n",
    "print('AUC rf: %.3f' % auc_rf_1)\n",
    "print('AUC xgb: %.3f' % auc_xgb_1)\n",
    "print('AUC xgb tune: %.3f' % auc_xgb_tun_1)\n",
    "\n",
    "# # Importancia de variables\n",
    "# xgb.plot_importance(model, max_num_features = 11)\n",
    "# plt.tight_layout()\n",
    "# plt.figure(figsize = (20, 22))\n",
    "# plt.show()"
   ]
  },
  {
   "cell_type": "markdown",
   "metadata": {},
   "source": [
    "#### Light GBM"
   ]
  },
  {
   "cell_type": "markdown",
   "metadata": {},
   "source": [
    "Paso a considerar el modelo Light GBM con definición de hiperparámetros mediante un RandomizedSearchCV"
   ]
  },
  {
   "cell_type": "code",
   "execution_count": 48,
   "metadata": {},
   "outputs": [],
   "source": [
    "# Seleccionamos el modelos light GBM para clasificacion\n",
    "import lightgbm as lgb\n",
    "lgb=lgb.LGBMClassifier()\n",
    "\n",
    "# Se definen los hyperparámetros para realizar el tunning mediante cross validation\n",
    "\n",
    "parameters = {'num_leaves':[20,40,60,80,100], 'min_child_samples':[5,10,15],'max_depth':[-1,5,10,20],\n",
    "             'learning_rate':[0.05,0.1,0.2],'reg_alpha':[0,0.01,0.03]}\n",
    "\n",
    "clf = sklearn.model_selection.RandomizedSearchCV(lgb,parameters,scoring='roc_auc',\n",
    "                                                 n_iter=100,random_state = seed)\n",
    "\n",
    "## Se entrena el modelo con los mejores estimadores sobre la base training:\n",
    "\n",
    "clf.fit(X=X_train, y=y_train)\n",
    "# print(clf.best_params_)\n",
    "\n",
    "## Se predice sobre el 80% definido como testing:\n",
    "\n",
    "preds_lgb_tun_1=clf.predict(X_test)"
   ]
  },
  {
   "cell_type": "code",
   "execution_count": 49,
   "metadata": {
    "scrolled": true
   },
   "outputs": [
    {
     "name": "stdout",
     "output_type": "stream",
     "text": [
      "##### MODELOS BENCHMARK #####\n",
      "AUC rf: 0.709\n",
      "AUC xgb: 0.722\n",
      "AUC xgb tune: 0.717\n",
      "AUC gbm: 0.720\n"
     ]
    }
   ],
   "source": [
    "auc_gbm_1 = sklearn.metrics.roc_auc_score(y_test, preds_lgb_tun_1)\n",
    "\n",
    "print(\"##### MODELOS BENCHMARK #####\")\n",
    "print('AUC rf: %.3f' % auc_rf_1)\n",
    "print('AUC xgb: %.3f' % auc_xgb_1)\n",
    "print('AUC xgb tune: %.3f' % auc_xgb_tun_1)\n",
    "print('AUC gbm: %.3f' % auc_gbm_1)"
   ]
  },
  {
   "cell_type": "markdown",
   "metadata": {},
   "source": [
    "### 2) Nuevas variables"
   ]
  },
  {
   "cell_type": "markdown",
   "metadata": {},
   "source": [
    "En estas nueva sección se repiten los modelos anteriores pero incluyendo nuevas variables: tanto las generadas a lo largo del EDA como nuevas definidas a continuación:"
   ]
  },
  {
   "cell_type": "code",
   "execution_count": 50,
   "metadata": {},
   "outputs": [],
   "source": [
    "# hotels.columns"
   ]
  },
  {
   "cell_type": "code",
   "execution_count": 51,
   "metadata": {},
   "outputs": [],
   "source": [
    "## Definimos nuevas variables:\n",
    "\n",
    "hotels[\"waiting_lead\"] = hotels[\"days_in_waiting_list\"]/np.where(hotels[\"lead_time\"]==0, 1 ,hotels[\"lead_time\"])\n",
    "hotels[\"request_adult\"] = hotels[\"total_of_special_requests\"]/np.where(hotels[\"adults\"]==0, 1 ,hotels[\"adults\"])\n",
    "hotels[\"days_total\"] =hotels['stays_in_weekend_nights']+hotels['stays_in_week_nights']\n",
    "hotels[\"precio_total\"]=hotels[\"average_daily_rate\"]*hotels[\"days_total\"]\n",
    "hotels[\"lead_days\"]=hotels[\"lead_time\"]/hotels[\"days_total\"]"
   ]
  },
  {
   "cell_type": "code",
   "execution_count": 52,
   "metadata": {},
   "outputs": [
    {
     "data": {
      "text/plain": [
       "Index(['lead_time', 'stays_in_weekend_nights', 'stays_in_week_nights',\n",
       "       'adults', 'is_repeated_guest', 'previous_cancellations',\n",
       "       'previous_bookings_not_canceled', 'booking_changes',\n",
       "       'days_in_waiting_list', 'average_daily_rate',\n",
       "       'total_of_special_requests', 'dummy_children', 'adr_per_adult', 'month',\n",
       "       'high_demand', 'reserved_room_children', 'change_room_type',\n",
       "       'segment_nochild', 'waiting_lead', 'request_adult', 'days_total',\n",
       "       'precio_total', 'lead_days', 'hotel_Resort_Hotel', 'meal_FB', 'meal_HB',\n",
       "       'meal_SC', 'meal_Undefined', 'market_segment_Complementary',\n",
       "       'market_segment_Corporate', 'market_segment_Direct',\n",
       "       'market_segment_Groups', 'market_segment_Offline_TA/TO',\n",
       "       'market_segment_Online_TA', 'reserved_room_type_B',\n",
       "       'reserved_room_type_C', 'reserved_room_type_D', 'reserved_room_type_E',\n",
       "       'reserved_room_type_F', 'reserved_room_type_G', 'reserved_room_type_H',\n",
       "       'reserved_room_type_L', 'assigned_room_type_B', 'assigned_room_type_C',\n",
       "       'assigned_room_type_D', 'assigned_room_type_E', 'assigned_room_type_F',\n",
       "       'assigned_room_type_G', 'assigned_room_type_H', 'assigned_room_type_I',\n",
       "       'assigned_room_type_K', 'customer_type_Group',\n",
       "       'customer_type_Transient', 'customer_type_Transient-Party',\n",
       "       'required_car_parking_spaces_parking'],\n",
       "      dtype='object')"
      ]
     },
     "execution_count": 52,
     "metadata": {},
     "output_type": "execute_result"
    }
   ],
   "source": [
    "datos = hotels.drop(columns = {\"arrival_date\", \"country\",\n",
    "                              \"children\",\"deposit_type\",\n",
    "                               'distribution_channel'\n",
    "                              })\n",
    "\n",
    "datos2 = pd.get_dummies(datos, drop_first=True)\n",
    "\n",
    "datos2.columns"
   ]
  },
  {
   "cell_type": "code",
   "execution_count": 53,
   "metadata": {},
   "outputs": [],
   "source": [
    "# Generar la base de entrenamiento y de testeo\n",
    "X,y = datos2.drop(['dummy_children'],axis=1),datos2.dummy_children.astype('int')\n",
    "X_train, X_test, y_train, y_test = train_test_split(X, y, random_state=seed, train_size = .80)"
   ]
  },
  {
   "cell_type": "markdown",
   "metadata": {},
   "source": [
    "#### Random Forest"
   ]
  },
  {
   "cell_type": "markdown",
   "metadata": {},
   "source": [
    "RF se entrena, en una primera instancia, con los valores por default de la librería."
   ]
  },
  {
   "cell_type": "code",
   "execution_count": 54,
   "metadata": {},
   "outputs": [],
   "source": [
    "## Se entrena el modelo sobre la base training:\n",
    "clf=RandomForestClassifier(random_state=seed)\n",
    "clf.fit(X_train, y_train)\n",
    "\n",
    "## Se predice sobre el 80% definido como testing:\n",
    "preds_rf_2 = clf.predict(X_test)"
   ]
  },
  {
   "cell_type": "code",
   "execution_count": 55,
   "metadata": {},
   "outputs": [
    {
     "name": "stdout",
     "output_type": "stream",
     "text": [
      "##### MODELOS BENCHMARK #####\n",
      "AUC rf: 0.709\n",
      "AUC xgb: 0.722\n",
      "AUC xgb tune: 0.717\n",
      "AUC gbm: 0.720\n",
      "##### NUEVAS VARIABLES #####\n",
      "AUC rf: 0.720\n"
     ]
    }
   ],
   "source": [
    "### Dejo indicados algunos cálculos de medidas, dejando un print habilitado solo para el AUC\n",
    "# print (clf.score(X_train, y_train)) ## Sobre train (overfit)\n",
    "# print (clf.score(X_test, y_test)) ## Sobre test\n",
    "# print(sklearn.metrics.classification_report(y_test, preds_rf_1))\n",
    "\n",
    "# Curva ROC\n",
    "# fpr, tpr, thresholds = sklearn.metrics.roc_curve(y_test, preds_rf_1)\n",
    "\n",
    "# Plot ROC\n",
    "# plt.plot([0, 1], [0, 1], 'k--')\n",
    "# plt.plot(fpr, tpr)\n",
    "# plt.xlabel('False Positive Rate')\n",
    "# plt.ylabel('True Positive Rate')\n",
    "# plt.title('ROC Curve')\n",
    "# plt.show()\n",
    "\n",
    "# calculate AUC\n",
    "auc_rf_2 = sklearn.metrics.roc_auc_score(y_test, preds_rf_2)\n",
    "print(\"##### MODELOS BENCHMARK #####\")\n",
    "print('AUC rf: %.3f' % auc_rf_1)\n",
    "print('AUC xgb: %.3f' % auc_xgb_1)\n",
    "print('AUC xgb tune: %.3f' % auc_xgb_tun_1)\n",
    "print('AUC gbm: %.3f' % auc_gbm_1)\n",
    "print(\"##### NUEVAS VARIABLES #####\")\n",
    "print('AUC rf: %.3f' % auc_rf_2)\n"
   ]
  },
  {
   "cell_type": "markdown",
   "metadata": {},
   "source": [
    "Probamos con un RF tuneando hiperparámetros"
   ]
  },
  {
   "cell_type": "code",
   "execution_count": 56,
   "metadata": {},
   "outputs": [],
   "source": [
    "# Number of trees in random forest\n",
    "n_estimators = [int(x) for x in np.linspace(start = 50, stop = 150, num = 5)]\n",
    "# Number of features to consider at every split\n",
    "max_features = ['auto', 'sqrt']\n",
    "# Maximum number of levels in tree\n",
    "max_depth = [2,4]\n",
    "# Minimum number of samples required to split a node\n",
    "min_samples_split = [2, 5]\n",
    "# Minimum number of samples required at each leaf node\n",
    "min_samples_leaf = [1, 2]\n",
    "# Method of selecting samples for training each tree\n",
    "bootstrap = [True, False]"
   ]
  },
  {
   "cell_type": "code",
   "execution_count": 57,
   "metadata": {},
   "outputs": [
    {
     "data": {
      "text/plain": [
       "{'n_estimators': [50, 75, 100, 125, 150],\n",
       " 'max_features': ['auto', 'sqrt'],\n",
       " 'max_depth': [2, 4],\n",
       " 'min_samples_split': [2, 5],\n",
       " 'min_samples_leaf': [1, 2],\n",
       " 'bootstrap': [True, False]}"
      ]
     },
     "execution_count": 57,
     "metadata": {},
     "output_type": "execute_result"
    }
   ],
   "source": [
    "# Seteamos la grilla de hiperparametros\n",
    "param_grid = {'n_estimators': n_estimators,\n",
    "               'max_features': max_features,\n",
    "               'max_depth': max_depth,\n",
    "               'min_samples_split': min_samples_split,\n",
    "               'min_samples_leaf': min_samples_leaf,\n",
    "               'bootstrap': bootstrap}\n",
    "param_grid"
   ]
  },
  {
   "cell_type": "code",
   "execution_count": 58,
   "metadata": {},
   "outputs": [
    {
     "name": "stdout",
     "output_type": "stream",
     "text": [
      "Fitting 5 folds for each of 10 candidates, totalling 50 fits\n"
     ]
    }
   ],
   "source": [
    "## Definimos el modelo, los hiperparámetros que mejor ajustan, \n",
    "# entrenamos sobre la base de training y predecimos dobre el testing\n",
    "\n",
    "rf_Model = RandomForestClassifier(random_state = seed)\n",
    "rf_RandomGrid = sklearn.model_selection.RandomizedSearchCV(estimator = rf_Model, \n",
    "                                                           param_distributions = param_grid, \n",
    "                                                           verbose=2, n_jobs = 4, scoring='roc_auc')\n",
    "\n",
    "rf_RandomGrid.fit(X_train, y_train)\n",
    "rf_RandomGrid.best_params_\n",
    "\n",
    "preds_rf_tune2 =  rf_RandomGrid.predict(X_test)"
   ]
  },
  {
   "cell_type": "code",
   "execution_count": 59,
   "metadata": {},
   "outputs": [
    {
     "name": "stdout",
     "output_type": "stream",
     "text": [
      "##### MODELOS BENCHMARK #####\n",
      "AUC rf: 0.709\n",
      "AUC xgb: 0.722\n",
      "AUC xgb tune: 0.717\n",
      "AUC gbm: 0.720\n",
      "##### NUEVAS VARIABLES #####\n",
      "AUC rf: 0.720\n",
      "AUC rf tune: 0.638\n"
     ]
    }
   ],
   "source": [
    "# calculate AUC\n",
    "auc_rf_tune_2 = sklearn.metrics.roc_auc_score(y_test, preds_rf_tune2)\n",
    "\n",
    "print(\"##### MODELOS BENCHMARK #####\")\n",
    "print('AUC rf: %.3f' % auc_rf_1)\n",
    "print('AUC xgb: %.3f' % auc_xgb_1)\n",
    "print('AUC xgb tune: %.3f' % auc_xgb_tun_1)\n",
    "print('AUC gbm: %.3f' % auc_gbm_1)\n",
    "print(\"##### NUEVAS VARIABLES #####\")\n",
    "print('AUC rf: %.3f' % auc_rf_2)\n",
    "print('AUC rf tune: %.3f' % auc_rf_tune_2)"
   ]
  },
  {
   "cell_type": "markdown",
   "metadata": {},
   "source": [
    "#### XGBoost"
   ]
  },
  {
   "cell_type": "markdown",
   "metadata": {},
   "source": [
    "Paso a considerar el modelo XGBoost - en una primera instancia dejo los hiperparámetros definidos por default y luego se tunean mediante un RandomizedSearchCV"
   ]
  },
  {
   "cell_type": "code",
   "execution_count": 60,
   "metadata": {},
   "outputs": [
    {
     "name": "stdout",
     "output_type": "stream",
     "text": [
      "[21:43:18] WARNING: C:\\Windows\\Temp\\abs_557yfx631l\\croots\\recipe\\xgboost-split_1659548953302\\work\\src\\learner.cc:1115: Starting in XGBoost 1.3.0, the default evaluation metric used with the objective 'binary:logistic' was changed from 'error' to 'logloss'. Explicitly set eval_metric if you'd like to restore the old behavior.\n"
     ]
    }
   ],
   "source": [
    "## Se entrena el modelo sobre la base training:\n",
    "model = xgb.XGBClassifier(random_state = seed)\n",
    "model.fit(X_train, y_train, verbose=False)\n",
    "\n",
    "## Se predice sobre el 80% definido como testing:\n",
    "preds_xgb_2 = model.predict(X_test)"
   ]
  },
  {
   "cell_type": "code",
   "execution_count": 61,
   "metadata": {},
   "outputs": [
    {
     "name": "stdout",
     "output_type": "stream",
     "text": [
      "##### MODELOS BENCHMARK #####\n",
      "AUC rf: 0.709\n",
      "AUC xgb: 0.722\n",
      "AUC xgb tune: 0.717\n",
      "AUC gbm: 0.720\n",
      "##### NUEVAS VARIABLES #####\n",
      "AUC rf: 0.720\n",
      "AUC rf tune: 0.638\n",
      "AUC xgb: 0.735\n"
     ]
    }
   ],
   "source": [
    "# print (clf.score(X_train, y_train))\n",
    "# print (clf.score(X_test,y_test))\n",
    "# print(sklearn.metrics.classification_report(y_test, preds_xgb_2))\n",
    "\n",
    "auc_xgb_2 = sklearn.metrics.roc_auc_score(y_test, preds_xgb_2)\n",
    "\n",
    "print(\"##### MODELOS BENCHMARK #####\")\n",
    "print('AUC rf: %.3f' % auc_rf_1)\n",
    "print('AUC xgb: %.3f' % auc_xgb_1)\n",
    "print('AUC xgb tune: %.3f' % auc_xgb_tun_1)\n",
    "print('AUC gbm: %.3f' % auc_gbm_1)\n",
    "print(\"##### NUEVAS VARIABLES #####\")\n",
    "print('AUC rf: %.3f' % auc_rf_2)\n",
    "print('AUC rf tune: %.3f' % auc_rf_tune_2)\n",
    "print('AUC xgb: %.3f' % auc_xgb_2)\n",
    "\n",
    "# # Importancia de variables\n",
    "# xgb.plot_importance(model, max_num_features = 11)\n",
    "# plt.tight_layout()\n",
    "# plt.figure(figsize = (20, 22))\n",
    "# plt.show()"
   ]
  },
  {
   "cell_type": "code",
   "execution_count": 62,
   "metadata": {},
   "outputs": [
    {
     "name": "stdout",
     "output_type": "stream",
     "text": [
      "Fitting 5 folds for each of 5 candidates, totalling 25 fits\n",
      "[21:43:43] WARNING: C:\\Windows\\Temp\\abs_557yfx631l\\croots\\recipe\\xgboost-split_1659548953302\\work\\src\\learner.cc:1115: Starting in XGBoost 1.3.0, the default evaluation metric used with the objective 'binary:logistic' was changed from 'error' to 'logloss'. Explicitly set eval_metric if you'd like to restore the old behavior.\n",
      "[21:43:45] WARNING: C:\\Windows\\Temp\\abs_557yfx631l\\croots\\recipe\\xgboost-split_1659548953302\\work\\src\\learner.cc:1115: Starting in XGBoost 1.3.0, the default evaluation metric used with the objective 'binary:logistic' was changed from 'error' to 'logloss'. Explicitly set eval_metric if you'd like to restore the old behavior.\n"
     ]
    }
   ],
   "source": [
    "# Seleccionamos el modelos XGBoost para clasificacion\n",
    "\n",
    "clf = xgb.XGBClassifier(random_state = seed)\n",
    "\n",
    "# Se definen los hyperparámetros para realizar el tunning mediante cross validation\n",
    "\n",
    "params = {\n",
    "\"eta\"    : [0.05, 0.10,0,15,  0.20, 0.25,  0.30 ] ,\n",
    "'learning_rate' : [ 0.10,0.15,0.20,0.25,0.30],\n",
    "'max_depth' : [ 3, 4, 5, 6, 8, 10],\n",
    "'min_child_weight' : [ 1, 3, 5, 7 ],\n",
    "'gamma': [ 0.0, 0.1, 0.2 , 0.3, 0.4 ],\n",
    "'colsample_bytree' : [ 0.3, 0.4, 0.5 , 0.7 ]\n",
    "}\n",
    "\n",
    "# Se eligen los parámetros utilizando como scoring el area under the curve en el roc\n",
    "\n",
    "grid=sklearn.model_selection.RandomizedSearchCV(clf,param_distributions=params,n_iter=5,\n",
    "                                                scoring='roc_auc',n_jobs=-1,verbose=3,\n",
    "                                                random_state = seed)\n",
    "grid_result = grid.fit(X_train, y_train)\n",
    "grid_result.best_estimator_\n",
    "\n",
    "## Se entrena el modelo con los mejores estimadores sobre la base training:\n",
    "\n",
    "model = xgb.XGBClassifier(**grid_result.best_params_, random_state = seed)\n",
    "model.fit(X_train, y_train, verbose=False)\n",
    "\n",
    "## Se predice sobre el 80% definido como testing:\n",
    "preds_xgb_tun_2 = model.predict(X_test)"
   ]
  },
  {
   "cell_type": "code",
   "execution_count": 63,
   "metadata": {},
   "outputs": [
    {
     "name": "stdout",
     "output_type": "stream",
     "text": [
      "##### MODELOS BENCHMARK #####\n",
      "AUC rf: 0.709\n",
      "AUC xgb: 0.722\n",
      "AUC xgb tune: 0.717\n",
      "AUC gbm: 0.720\n",
      "##### NUEVAS VARIABLES #####\n",
      "AUC rf: 0.720\n",
      "AUC rf tune: 0.638\n",
      "AUC xgb: 0.735\n",
      "AUC xgb tune: 0.740\n"
     ]
    }
   ],
   "source": [
    "# print (model.score(X_train, y_train))\n",
    "# print (model.score(X_test,y_test))\n",
    "# print(sklearn.metrics.classification_report(y_test, preds_xgb_tun_2))\n",
    "\n",
    "auc_xgb_tun_2 = sklearn.metrics.roc_auc_score(y_test, preds_xgb_tun_2)\n",
    "\n",
    "print(\"##### MODELOS BENCHMARK #####\")\n",
    "print('AUC rf: %.3f' % auc_rf_1)\n",
    "print('AUC xgb: %.3f' % auc_xgb_1)\n",
    "print('AUC xgb tune: %.3f' % auc_xgb_tun_1)\n",
    "print('AUC gbm: %.3f' % auc_gbm_1)\n",
    "print(\"##### NUEVAS VARIABLES #####\")\n",
    "print('AUC rf: %.3f' % auc_rf_2)\n",
    "print('AUC rf tune: %.3f' % auc_rf_tune_2)\n",
    "print('AUC xgb: %.3f' % auc_xgb_2)\n",
    "print('AUC xgb tune: %.3f' % auc_xgb_tun_2)\n"
   ]
  },
  {
   "cell_type": "markdown",
   "metadata": {},
   "source": [
    "#### Light GBM"
   ]
  },
  {
   "cell_type": "markdown",
   "metadata": {},
   "source": [
    "Paso a considerar el modelo Light GBM con definición de hiperparámetros mediante un RandomizedSearchCV"
   ]
  },
  {
   "cell_type": "code",
   "execution_count": 64,
   "metadata": {},
   "outputs": [],
   "source": [
    "# Seleccionamos el modelos light GBM para clasificacion\n",
    "import lightgbm as lgb\n",
    "lgb=lgb.LGBMClassifier()\n",
    "\n",
    "# Se definen los hyperparámetros para realizar el tunning mediante cross validation\n",
    "\n",
    "parameters = {'num_leaves':[20,40,60,80,100], 'min_child_samples':[5,10,15],'max_depth':[-1,5,10,20],\n",
    "             'learning_rate':[0.05,0.1,0.2],'reg_alpha':[0,0.01,0.03]}\n",
    "\n",
    "clf = sklearn.model_selection.RandomizedSearchCV(lgb,parameters,scoring='roc_auc',\n",
    "                                                 n_iter=100,random_state = seed)\n",
    "\n",
    "## Se entrena el modelo con los mejores estimadores sobre la base training:\n",
    "\n",
    "clf.fit(X=X_train, y=y_train)\n",
    "# print(clf.best_params_)\n",
    "\n",
    "## Se predice sobre el 80% definido como testing:\n",
    "\n",
    "preds_lgb_tun_2=clf.predict(X_test)"
   ]
  },
  {
   "cell_type": "code",
   "execution_count": 65,
   "metadata": {},
   "outputs": [],
   "source": [
    "# # Curva ROC\n",
    "# fpr, tpr, thresholds = sklearn.metrics.roc_curve(y_test, preds_lgb_tun_2)\n",
    "\n",
    "# # Plot ROC\n",
    "# plt.plot([0, 1], [0, 1], 'k--')\n",
    "# plt.plot(fpr, tpr)\n",
    "# plt.xlabel('False Positive Rate')\n",
    "# plt.ylabel('True Positive Rate')\n",
    "# plt.title('ROC Curve - LightGBM')\n",
    "# plt.show()\n"
   ]
  },
  {
   "cell_type": "code",
   "execution_count": 66,
   "metadata": {
    "scrolled": true
   },
   "outputs": [
    {
     "name": "stdout",
     "output_type": "stream",
     "text": [
      "##### MODELOS BENCHMARK #####\n",
      "AUC rf: 0.709\n",
      "AUC xgb: 0.722\n",
      "AUC xgb tune: 0.717\n",
      "AUC lgbm: 0.720\n",
      "##### NUEVAS VARIABLES #####\n",
      "AUC rf: 0.720\n",
      "AUC rf tune: 0.638\n",
      "AUC xgb: 0.735\n",
      "AUC xgb tune: 0.740\n",
      "AUC lgbm: 0.738\n"
     ]
    }
   ],
   "source": [
    "auc_gbm_2 = sklearn.metrics.roc_auc_score(y_test, preds_lgb_tun_2)\n",
    "\n",
    "print(\"##### MODELOS BENCHMARK #####\")\n",
    "print('AUC rf: %.3f' % auc_rf_1)\n",
    "print('AUC xgb: %.3f' % auc_xgb_1)\n",
    "print('AUC xgb tune: %.3f' % auc_xgb_tun_1)\n",
    "print('AUC lgbm: %.3f' % auc_gbm_1)\n",
    "print(\"##### NUEVAS VARIABLES #####\")\n",
    "print('AUC rf: %.3f' % auc_rf_2)\n",
    "print('AUC rf tune: %.3f' % auc_rf_tune_2)\n",
    "print('AUC xgb: %.3f' % auc_xgb_2)\n",
    "print('AUC xgb tune: %.3f' % auc_xgb_tun_2)\n",
    "print('AUC lgbm: %.3f' % auc_gbm_2)"
   ]
  },
  {
   "cell_type": "markdown",
   "metadata": {},
   "source": [
    "### 3) Ensamble por \"Votación\""
   ]
  },
  {
   "cell_type": "markdown",
   "metadata": {},
   "source": [
    "Considerando que las diferencias entre los AUC de los modelos no son muy significativas (faltaría hacer algún test para ello, con diferentes semillas a ver si la diferencia es meramente estocástica), el modelo final será por votación de tres modelos: RF (default), LGB (tune) y XGB (tune)."
   ]
  },
  {
   "cell_type": "code",
   "execution_count": 67,
   "metadata": {},
   "outputs": [],
   "source": [
    "# Extraemos los distintos resultados \n",
    "xgb_tun = pd.DataFrame(preds_xgb_tun_2, columns=['xgb_tun']) \n",
    "lgb_tun = pd.DataFrame(preds_lgb_tun_2, columns=['lgb_tun']) \n",
    "rf = pd.DataFrame(preds_rf_2, columns=['rf']) \n",
    "test = y_test.to_frame(name='test').reset_index(drop=True)\n",
    "\n",
    "test = pd.concat([test, xgb_tun, lgb_tun, rf], axis=1)\n",
    "\n",
    "## El resultado final será por votación en mayoría simple: \n",
    "# si la mitad más uno de los modelos consideran que dummy_children = 1 , entonces se considera 1.\n",
    "# Es decir la suma de los tres modelos es mayor o igual a 2 para que se considere \"con niños\"\n",
    "\n",
    "test[\"suma\"] = test['xgb_tun'] + test['lgb_tun'] + test['rf']\n",
    "test[\"votacion\"] = np.where(test[\"suma\"] >= 2, 1,0)"
   ]
  },
  {
   "cell_type": "code",
   "execution_count": 68,
   "metadata": {},
   "outputs": [
    {
     "name": "stdout",
     "output_type": "stream",
     "text": [
      "##### MODELOS BENCHMARK #####\n",
      "AUC rf: 0.709\n",
      "AUC xgb: 0.722\n",
      "AUC xgb tune: 0.717\n",
      "AUC gbm: 0.720\n",
      "##### NUEVAS VARIABLES #####\n",
      "AUC rf: 0.720\n",
      "AUC rf tune: 0.638\n",
      "AUC xgb: 0.735\n",
      "AUC xgb tune: 0.740\n",
      "AUC gbm: 0.738\n",
      "##### ENSAMBLE #####\n",
      "AUC ensamble: 0.735\n"
     ]
    }
   ],
   "source": [
    "auc_votacion = sklearn.metrics.roc_auc_score(y_test, test[\"votacion\"])\n",
    "auc_votacion\n",
    "\n",
    "print(\"##### MODELOS BENCHMARK #####\")\n",
    "print('AUC rf: %.3f' % auc_rf_1)\n",
    "print('AUC xgb: %.3f' % auc_xgb_1)\n",
    "print('AUC xgb tune: %.3f' % auc_xgb_tun_1)\n",
    "print('AUC gbm: %.3f' % auc_gbm_1)\n",
    "print(\"##### NUEVAS VARIABLES #####\")\n",
    "print('AUC rf: %.3f' % auc_rf_2)\n",
    "print('AUC rf tune: %.3f' % auc_rf_tune_2)\n",
    "print('AUC xgb: %.3f' % auc_xgb_2)\n",
    "print('AUC xgb tune: %.3f' % auc_xgb_tun_2)\n",
    "print('AUC gbm: %.3f' % auc_gbm_2)\n",
    "print(\"##### ENSAMBLE #####\")\n",
    "print('AUC ensamble: %.3f' % auc_votacion)"
   ]
  },
  {
   "cell_type": "code",
   "execution_count": 69,
   "metadata": {},
   "outputs": [
    {
     "name": "stdout",
     "output_type": "stream",
     "text": [
      "[[7589   89]\n",
      " [ 403  375]]\n"
     ]
    },
    {
     "data": {
      "image/png": "[encoded data removed]",
      "text/plain": [
       "<Figure size 432x288 with 2 Axes>"
      ]
     },
     "metadata": {},
     "output_type": "display_data"
    }
   ],
   "source": [
    "cf_matrix = confusion_matrix(y_test, test[\"votacion\"])\n",
    "print(cf_matrix)\n",
    "\n",
    "### Thanks to https://github.com/DTrimarchi10/confusion_matrix/blob/master/cf_matrix.py\n",
    "def make_confusion_matrix(cf,\n",
    "                          group_names=None,\n",
    "                          categories='auto',\n",
    "                          count=True,\n",
    "                          percent=True,\n",
    "                          cbar=True,\n",
    "                          xyticks=True,\n",
    "                          xyplotlabels=True,\n",
    "                          sum_stats=True,\n",
    "                          figsize=None,\n",
    "                          cmap='Blues',\n",
    "                          title=None):\n",
    "\n",
    "\n",
    "    # CODE TO GENERATE TEXT INSIDE EACH SQUARE\n",
    "    blanks = ['' for i in range(cf.size)]\n",
    "\n",
    "    if group_names and len(group_names)==cf.size:\n",
    "        group_labels = [\"{}\\n\".format(value) for value in group_names]\n",
    "    else:\n",
    "        group_labels = blanks\n",
    "\n",
    "    if count:\n",
    "        group_counts = [\"{0:0.0f}\\n\".format(value) for value in cf.flatten()]\n",
    "    else:\n",
    "        group_counts = blanks\n",
    "\n",
    "    if percent:\n",
    "        group_percentages = [\"{0:.2%}\".format(value) for value in cf.flatten()/np.sum(cf)]\n",
    "    else:\n",
    "        group_percentages = blanks\n",
    "\n",
    "    box_labels = [f\"{v1}{v2}{v3}\".strip() for v1, v2, v3 in zip(group_labels,group_counts,group_percentages)]\n",
    "    box_labels = np.asarray(box_labels).reshape(cf.shape[0],cf.shape[1])\n",
    "\n",
    "\n",
    "    # CODE TO GENERATE SUMMARY STATISTICS & TEXT FOR SUMMARY STATS\n",
    "    if sum_stats:\n",
    "        #Accuracy is sum of diagonal divided by total observations\n",
    "        accuracy  = np.trace(cf) / float(np.sum(cf))\n",
    "\n",
    "        #if it is a binary confusion matrix, show some more stats\n",
    "        if len(cf)==2:\n",
    "            #Metrics for Binary Confusion Matrices\n",
    "            precision = cf[1,1] / sum(cf[:,1])\n",
    "            recall    = cf[1,1] / sum(cf[1,:])\n",
    "            f1_score  = 2*precision*recall / (precision + recall)\n",
    "            stats_text = \"\\n\\nAccuracy={:0.3f}\\nPrecision={:0.3f}\\nRecall={:0.3f}\\nF1 Score={:0.3f}\".format(\n",
    "                accuracy,precision,recall,f1_score)\n",
    "        else:\n",
    "            stats_text = \"\\n\\nAccuracy={:0.3f}\".format(accuracy)\n",
    "    else:\n",
    "        stats_text = \"\"\n",
    "\n",
    "\n",
    "    # SET FIGURE PARAMETERS ACCORDING TO OTHER ARGUMENTS\n",
    "    if figsize==None:\n",
    "        #Get default figure size if not set\n",
    "        figsize = plt.rcParams.get('figure.figsize')\n",
    "\n",
    "    if xyticks==False:\n",
    "        #Do not show categories if xyticks is False\n",
    "        categories=False\n",
    "\n",
    "\n",
    "    # MAKE THE HEATMAP VISUALIZATION\n",
    "    plt.figure(figsize=figsize)\n",
    "    sns.heatmap(cf,annot=box_labels,fmt=\"\",cmap=cmap,cbar=cbar,xticklabels=categories,yticklabels=categories)\n",
    "\n",
    "    if xyplotlabels:\n",
    "        plt.ylabel('True label')\n",
    "        plt.xlabel('Predicted label' + stats_text)\n",
    "    else:\n",
    "        plt.xlabel(stats_text)\n",
    "    \n",
    "    if title:\n",
    "        plt.title(title)\n",
    "        \n",
    "labels = ['True Neg','False Pos','False Neg','True Pos']\n",
    "categories = ['None', 'Children']\n",
    "make_confusion_matrix(cf_matrix, \n",
    "                      group_names=labels,\n",
    "                      categories=categories, \n",
    "                      cmap='binary',\n",
    "                      figsize=(6, 4))"
   ]
  },
  {
   "cell_type": "markdown",
   "metadata": {},
   "source": [
    "### 4) MODELO FINAL"
   ]
  },
  {
   "cell_type": "markdown",
   "metadata": {},
   "source": [
    "Queda dejar planteados los entrenamientos sobre la base total para predecir nuevas observaciones "
   ]
  },
  {
   "cell_type": "code",
   "execution_count": 70,
   "metadata": {},
   "outputs": [],
   "source": [
    "##### BASE COMPLETA #######\n",
    "datos_completo = hotels.drop(columns = {\"arrival_date\", \"country\",\n",
    "                              \"children\",\"deposit_type\",\n",
    "                               'distribution_channel'\n",
    "                              })\n",
    "\n",
    "datos_completo = pd.get_dummies(datos_completo, drop_first=True)\n",
    "\n",
    "X_completo = datos_completo.drop(['dummy_children'],axis=1)\n",
    "y_completo = datos_completo.dummy_children.astype('int')"
   ]
  },
  {
   "cell_type": "markdown",
   "metadata": {},
   "source": [
    "ENTRENAMIENTO DE MODELOS"
   ]
  },
  {
   "cell_type": "code",
   "execution_count": 71,
   "metadata": {},
   "outputs": [
    {
     "name": "stdout",
     "output_type": "stream",
     "text": [
      "Fitting 5 folds for each of 5 candidates, totalling 25 fits\n",
      "[21:47:37] WARNING: C:\\Windows\\Temp\\abs_557yfx631l\\croots\\recipe\\xgboost-split_1659548953302\\work\\src\\learner.cc:1115: Starting in XGBoost 1.3.0, the default evaluation metric used with the objective 'binary:logistic' was changed from 'error' to 'logloss'. Explicitly set eval_metric if you'd like to restore the old behavior.\n",
      "[21:47:39] WARNING: C:\\Windows\\Temp\\abs_557yfx631l\\croots\\recipe\\xgboost-split_1659548953302\\work\\src\\learner.cc:1115: Starting in XGBoost 1.3.0, the default evaluation metric used with the objective 'binary:logistic' was changed from 'error' to 'logloss'. Explicitly set eval_metric if you'd like to restore the old behavior.\n"
     ]
    },
    {
     "data": {
      "text/plain": [
       "RandomizedSearchCV(estimator=LGBMClassifier(), n_iter=100,\n",
       "                   param_distributions={'learning_rate': [0.05, 0.1, 0.2],\n",
       "                                        'max_depth': [-1, 5, 10, 20],\n",
       "                                        'min_child_samples': [5, 10, 15],\n",
       "                                        'num_leaves': [20, 40, 60, 80, 100],\n",
       "                                        'reg_alpha': [0, 0.01, 0.03]},\n",
       "                   random_state=11, scoring='roc_auc')"
      ]
     },
     "execution_count": 71,
     "metadata": {},
     "output_type": "execute_result"
    }
   ],
   "source": [
    "##### RANDOM FOREST #######\n",
    "\n",
    "tf_rf = RandomForestClassifier(random_state=seed)\n",
    "tf_rf.fit(X_completo, y_completo)\n",
    "\n",
    "##### XGBOOST #######\n",
    "\n",
    "_xgb = xgb.XGBClassifier(random_state = seed)\n",
    "params = {\n",
    "\"eta\"    : [0.05, 0.10,0,15,  0.20, 0.25,  0.30 ] ,\n",
    "'learning_rate' : [ 0.10,0.15,0.20,0.25,0.30],\n",
    "'max_depth' : [ 3, 4, 5, 6, 8, 10],\n",
    "'min_child_weight' : [ 1, 3, 5, 7 ],\n",
    "'gamma': [ 0.0, 0.1, 0.2 , 0.3, 0.4 ],\n",
    "'colsample_bytree' : [ 0.3, 0.4, 0.5 , 0.7 ]\n",
    "}\n",
    "\n",
    "grid=sklearn.model_selection.RandomizedSearchCV(_xgb,param_distributions=params,n_iter=5,\n",
    "                                                scoring='roc_auc',n_jobs=-1,verbose=3,\n",
    "                                                random_state = seed)\n",
    "grid_result = grid.fit(X_train, y_train)\n",
    "tf_xgb = xgb.XGBClassifier(**grid_result.best_params_, random_state = seed)\n",
    "\n",
    "tf_xgb.fit(X_completo, y_completo, verbose=False)\n",
    "\n",
    "\n",
    "##### LightGBM #######\n",
    "\n",
    "import lightgbm as lgb\n",
    "lgb=lgb.LGBMClassifier()\n",
    "parameters = {'num_leaves':[20,40,60,80,100], 'min_child_samples':[5,10,15],'max_depth':[-1,5,10,20],\n",
    "             'learning_rate':[0.05,0.1,0.2],'reg_alpha':[0,0.01,0.03]}\n",
    "\n",
    "tf_lgb = sklearn.model_selection.RandomizedSearchCV(lgb,parameters,scoring='roc_auc',\n",
    "                                                    n_iter=100,random_state = seed)\n",
    "tf_lgb.fit(X = X_completo, y = y_completo)"
   ]
  },
  {
   "cell_type": "code",
   "execution_count": 72,
   "metadata": {},
   "outputs": [
    {
     "data": {
      "image/png": "[encoded data removed]",
      "text/plain": [
       "<Figure size 432x720 with 1 Axes>"
      ]
     },
     "metadata": {},
     "output_type": "display_data"
    }
   ],
   "source": [
    "### VARIABLES IMPORTANTES RF:\n",
    "\n",
    "importance = pd.DataFrame(tf_rf.feature_importances_, columns=['importance']).set_index(X_completo.columns).reset_index()\n",
    "imp_rf = importance.copy()\n",
    "\n",
    "imp_orden = importance.sort_values(by = ['importance'], ascending=False)\n",
    "name = imp_orden['index'].head(10)\n",
    "price = imp_orden['importance'].head(10)\n",
    "\n",
    "fig, ax = plt.subplots(figsize =(6, 10))\n",
    "\n",
    "ax.barh(name, price, color='#DFD3C3')  \n",
    "\n",
    "for s in ['top', 'bottom', 'left', 'right']:\n",
    "    ax.spines[s].set_visible(False)\n",
    "    \n",
    "ax.xaxis.set_ticks_position('none')\n",
    "ax.yaxis.set_ticks_position('none')\n",
    "\n",
    "ax.xaxis.set_tick_params(pad = 5, labelsize=10)\n",
    "ax.yaxis.set_tick_params(pad = 10, labelsize=17)\n",
    "\n",
    "ax.grid(b = True, color ='white',\n",
    "        linestyle ='-.', linewidth = 0.5,\n",
    "        alpha = 0.2)\n",
    "\n",
    "ax.invert_yaxis()\n",
    "\n",
    "\n",
    "ax.set_title('Importancia de variables - RF',loc ='left', size = 20)\n",
    "\n",
    "\n",
    "\n",
    "plt.show()\n",
    "\n"
   ]
  },
  {
   "cell_type": "code",
   "execution_count": 73,
   "metadata": {},
   "outputs": [
    {
     "data": {
      "image/png": "[encoded data removed]",
      "text/plain": [
       "<Figure size 432x720 with 1 Axes>"
      ]
     },
     "metadata": {},
     "output_type": "display_data"
    }
   ],
   "source": [
    "### VARIABLES IMPORTANTES XGBoost:\n",
    "\n",
    "importance = pd.DataFrame(tf_xgb.feature_importances_, columns=['importance']).set_index(X_completo.columns).reset_index()\n",
    "imp_xgb= importance.copy()\n",
    "\n",
    "imp_orden = importance.sort_values(by = ['importance'], ascending=False)\n",
    "\n",
    "name = imp_orden['index'].head(10)\n",
    "price = imp_orden['importance'].head(10)\n",
    "\n",
    "fig, ax = plt.subplots(figsize =(6, 10))\n",
    "\n",
    "ax.barh(name, price, color='#DFD3C3') \n",
    "\n",
    "for s in ['top', 'bottom', 'left', 'right']:\n",
    "    ax.spines[s].set_visible(False)\n",
    "    \n",
    "ax.xaxis.set_ticks_position('none')\n",
    "ax.yaxis.set_ticks_position('none')\n",
    "\n",
    "ax.xaxis.set_tick_params(pad = 5, labelsize=10)\n",
    "ax.yaxis.set_tick_params(pad = 10, labelsize=17)\n",
    "\n",
    "ax.grid(b = True, color ='white',\n",
    "        linestyle ='-.', linewidth = 0.5,\n",
    "        alpha = 0.2)\n",
    "\n",
    "ax.invert_yaxis()\n",
    "\n",
    "\n",
    "ax.set_title('Importancia de variables - XGBoost',loc ='left', size = 20)\n",
    "\n",
    "\n",
    "plt.show()\n",
    "\n"
   ]
  },
  {
   "cell_type": "code",
   "execution_count": 74,
   "metadata": {},
   "outputs": [
    {
     "data": {
      "image/png": "[encoded data removed]",
      "text/plain": [
       "<Figure size 432x720 with 1 Axes>"
      ]
     },
     "metadata": {},
     "output_type": "display_data"
    }
   ],
   "source": [
    "### VARIABLES IMPORTANTES LightGBM:\n",
    "\n",
    "importance = pd.DataFrame(tf_lgb.best_estimator_.feature_importances_, columns=['importance_1']).set_index(X_completo.columns).reset_index()\n",
    "importance['importance'] = importance['importance_1'] / (importance['importance_1'].sum())\n",
    "\n",
    "imp_lgbm = importance.copy()\n",
    "\n",
    "imp_orden = importance.sort_values(by = ['importance'], ascending=False)\n",
    "\n",
    "name = imp_orden['index'].head(10)\n",
    "price = imp_orden['importance'].head(10)\n",
    "\n",
    "fig, ax = plt.subplots(figsize =(6, 10))\n",
    "\n",
    "ax.barh(name, price, color='#DFD3C3') \n",
    "\n",
    "for s in ['top', 'bottom', 'left', 'right']:\n",
    "    ax.spines[s].set_visible(False)\n",
    "    \n",
    "ax.xaxis.set_ticks_position('none')\n",
    "ax.yaxis.set_ticks_position('none')\n",
    "\n",
    "ax.xaxis.set_tick_params(pad = 5, labelsize=10)\n",
    "ax.yaxis.set_tick_params(pad = 10, labelsize=17)\n",
    "\n",
    "ax.grid(b = True, color ='white',\n",
    "        linestyle ='-.', linewidth = 0.5,\n",
    "        alpha = 0.2)\n",
    "\n",
    "ax.invert_yaxis()\n",
    "\n",
    "\n",
    "ax.set_title('Importancia de variables - LightGBM',loc ='left', size = 20)\n",
    "\n",
    "\n",
    "\n",
    "plt.show()\n"
   ]
  },
  {
   "cell_type": "markdown",
   "metadata": {},
   "source": [
    "NUEVOS DATOS"
   ]
  },
  {
   "cell_type": "markdown",
   "metadata": {},
   "source": [
    "Queda muteado el código por ausencia de nueva base"
   ]
  },
  {
   "cell_type": "code",
   "execution_count": 75,
   "metadata": {},
   "outputs": [],
   "source": [
    "# X_new = \"nuevos datos\""
   ]
  },
  {
   "cell_type": "markdown",
   "metadata": {},
   "source": [
    "Predicciones:"
   ]
  },
  {
   "cell_type": "code",
   "execution_count": 76,
   "metadata": {},
   "outputs": [],
   "source": [
    "##### RANDOM FOREST #######\n",
    "# pred_rf = tf_rf.predict(X_new)\n",
    "\n",
    "##### XGBOOST #######\n",
    "# pred_xgb = tf_xgb.predict(X_new)\n",
    "\n",
    "##### LightGBM #######\n",
    "# pred_lgb = tf_lgb.predict(X_new)"
   ]
  },
  {
   "cell_type": "code",
   "execution_count": 77,
   "metadata": {},
   "outputs": [],
   "source": [
    "\n",
    "# pred_rf = pd.DataFrame(pred_rf, columns=['rf']) \n",
    "# pred_xgb = pd.DataFrame(pred_xgb, columns=['xgb']) \n",
    "# pred_lgb = pd.DataFrame(pred_lgb, columns=['lgb']) \n",
    "\n",
    "# pred = pd.concat([pred_rf, pred_xgb, pred_lgb], axis=1)\n",
    "\n",
    "# pred[\"pred_final\"] = np.where((pred['rf'] + pred['xgb'] + pred['lgb']) >= 2, 1,0)"
   ]
  },
  {
   "cell_type": "markdown",
   "metadata": {},
   "source": [
    "## Part III - Results & Conclusions"
   ]
  },
  {
   "cell_type": "code",
   "execution_count": 78,
   "metadata": {},
   "outputs": [],
   "source": [
    "#\n",
    "# Se adjunta PPT\n",
    "#"
   ]
  }
 ],
 "metadata": {
  "kernelspec": {
   "display_name": "Python 3",
   "language": "python",
   "name": "python3"
  },
  "language_info": {
   "codemirror_mode": {
    "name": "ipython",
    "version": 3
   },
   "file_extension": ".py",
   "mimetype": "text/x-python",
   "name": "python",
   "nbconvert_exporter": "python",
   "pygments_lexer": "ipython3",
   "version": "3.8.8"
  }
 },
 "nbformat": 4,
 "nbformat_minor": 4
}
